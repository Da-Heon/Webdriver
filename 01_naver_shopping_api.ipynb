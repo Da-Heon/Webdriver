{
  "cells": [
    {
      "cell_type": "markdown",
      "metadata": {
        "id": "view-in-github",
        "colab_type": "text"
      },
      "source": [
        "<a href=\"https://colab.research.google.com/github/Da-Heon/Webdriver/blob/main/01_naver_shopping_api.ipynb\" target=\"_parent\"><img src=\"https://colab.research.google.com/assets/colab-badge.svg\" alt=\"Open In Colab\"/></a>"
      ]
    },
    {
      "cell_type": "markdown",
      "metadata": {
        "id": "IHBUYjH0eHSI"
      },
      "source": [
        "# 네이버 API 활용 (w. 네이버쇼핑)"
      ]
    },
    {
      "cell_type": "markdown",
      "metadata": {
        "id": "JzLdWS3oeHSJ"
      },
      "source": [
        "- 웹자동화\n",
        "\t- 파이썬 기초 문법\n",
        "\t\t- 예외처리\n",
        "\t- 정적웹페이지\n",
        "\t\t- URL정보가 변하면서, 우리가 필요한 데이터를 수집하는 방식\n",
        "\t\t- requests, beautifulsoup\n",
        "\t- 동적웹페이지\n",
        "\t\t- URL정보가 변하지 않고, 우리가 필요한 데이터를 수집하는 방식\n",
        "\t\t- selenium\n",
        "\t- API활용(합법적 데이터 수집)\n",
        "\t\t- 서비스 제공자가 공식적으로 제안하는 방식으로 데이터를 수집하는 방식\n",
        "\t\t- 네이버, 카카오, 구글, 인스타그램, 트위터 ....\n",
        "\t\t- 공공데이터포털.."
      ]
    },
    {
      "cell_type": "markdown",
      "metadata": {
        "id": "x8H541yZeHSK"
      },
      "source": [
        "## 1. 네이버 API 사용"
      ]
    },
    {
      "cell_type": "markdown",
      "metadata": {
        "id": "p36R1qwAeHSK"
      },
      "source": [
        "- 네이버 개발자 센터\n",
        "- https://developers.naver.com/main/\n",
        "- 상단 Application 메뉴\n",
        "\t- 어플리케이션 등록\n",
        "\t- 어플리케이션 이름 codeit_API\n",
        "\t- 사용 API 설정\n",
        "\t\t- 검색 선택\n",
        "\t- 환경추가\n",
        "\t\t- WEB 설정\n",
        "\t\t- http://localhost.com\n",
        "\t- Client_ID: \"lAYN8bzrE1xseoriyh99\"\n",
        "\t- Client_Secret: \"fY4AnGhBMw\""
      ]
    },
    {
      "cell_type": "markdown",
      "metadata": {
        "id": "YO0NWntCeHSK"
      },
      "source": [
        "## 2. 네이버 검색 API 사용하기"
      ]
    },
    {
      "cell_type": "markdown",
      "metadata": {
        "id": "qorsypMbeHSK"
      },
      "source": [
        "- 상단 메뉴 Documents\n",
        "\t- 서비스 API -> 검색\n",
        "\t- https://developers.naver.com/docs/serviceapi/search/blog/blog.md#블로그\n",
        "\t- 파이썬 예제 코드 복사 붙여넣기"
      ]
    },
    {
      "cell_type": "markdown",
      "metadata": {
        "id": "m7UAIdtbeHSK"
      },
      "source": [
        "- urllib\n",
        "\t- http 프로토콜에 따라서 서버의 요청/응답을 처리하기 위한 모듈\n",
        "\t- urllib.request\n",
        "\t\t- URL을 열고 HTTP 요청을 만드는 기능\n",
        "\t\t- 클라이언트의 요청을 처리하는 기능\n",
        "\t- urllib.parse\n",
        "\t\t- URL 구문 분석을 위한 기능\n",
        "\t- urllib.parse.quote\n",
        "\t\t- URL의 일부가 될 문자열을 처리하는 기능"
      ]
    },
    {
      "cell_type": "code",
      "execution_count": null,
      "metadata": {
        "id": "qLmwDPcfeHSK",
        "outputId": "6b305a29-803d-422f-d44b-6f9c62bd5dbb",
        "colab": {
          "base_uri": "https://localhost:8080/"
        },
        "collapsed": true
      },
      "outputs": [
        {
          "output_type": "stream",
          "name": "stdout",
          "text": [
            "{\n",
            "\t\"lastBuildDate\":\"Wed, 26 Mar 2025 13:06:55 +0900\",\n",
            "\t\"total\":375,\n",
            "\t\"start\":1,\n",
            "\t\"display\":10,\n",
            "\t\"items\":[\n",
            "\t\t{\n",
            "\t\t\t\"title\":\"'합천영상테마파크' 레트로 감성 물씬…관람형 콘텐츠 강화\",\n",
            "\t\t\t\"originallink\":\"https:\\/\\/www.asiatoday.co.kr\\/view.php?key=20250326010013950\",\n",
            "\t\t\t\"link\":\"https:\\/\\/www.asiatoday.co.kr\\/view.php?key=20250326010013950\",\n",
            "\t\t\t\"description\":\"과거와 현재가 만나는 특별한 곳으로 탈바꿈 경남 합천군은 최근 '<b>폭삭 속았수다<\\/b>'의 촬영지로 유명해진 군 대표 관광지 '합천영상테마파크'가 대대적인 리모델링을 거쳐 관람형 콘텐츠를 강화한 공간으로 새롭게... \",\n",
            "\t\t\t\"pubDate\":\"Wed, 26 Mar 2025 11:58:00 +0900\"\n",
            "\t\t},\n",
            "\t\t{\n",
            "\t\t\t\"title\":\"‘<b>폭삭 속았수다<\\/b>’ OTT 진격에…지상파 등 방송광고 매출 19% 급감\",\n",
            "\t\t\t\"originallink\":\"https:\\/\\/www.sedaily.com\\/NewsView\\/2GQE8UAGB7\",\n",
            "\t\t\t\"link\":\"https:\\/\\/n.news.naver.com\\/mnews\\/article\\/011\\/0004466067?sid=105\",\n",
            "\t\t\t\"description\":\"방송시장 전반에 걸쳐 방송 사업자와 온라인동영상서비스(OTT) 사업자 간 경쟁이 심화되는 것으로 나타났다. OTT 영향력이 커짐에 따라 국내 방송영상콘텐츠 제작 수요는 위축되고 방송광고 시장도 큰 폭의... \",\n",
            "\t\t\t\"pubDate\":\"Wed, 26 Mar 2025 11:31:00 +0900\"\n",
            "\t\t},\n",
            "\t\t{\n",
            "\t\t\t\"title\":\"업그레이드 된 합천영상테마파크, 레트로 감성 물씬!\",\n",
            "\t\t\t\"originallink\":\"https:\\/\\/www.gukjenews.com\\/news\\/articleView.html?idxno=3233697\",\n",
            "\t\t\t\"link\":\"https:\\/\\/www.gukjenews.com\\/news\\/articleView.html?idxno=3233697\",\n",
            "\t\t\t\"description\":\"- 적산가옥로 최근 '<b>폭삭 속았수다<\\/b>'의 촬영지로 유명해진 합천군의 대표 관광지인 합천영상테마파크가 대대적인 리모델링을 거쳐 관람형 콘텐츠를 강화한 공간으로 새롭게 단장됐다. 기존의 외관 위주의 세트장 구성에서... \",\n",
            "\t\t\t\"pubDate\":\"Wed, 26 Mar 2025 11:14:00 +0900\"\n",
            "\t\t},\n",
            "\t\t{\n",
            "\t\t\t\"title\":\"제주도, 관광업계와 손잡고 관광위기 돌파구 모색\",\n",
            "\t\t\t\"originallink\":\"https:\\/\\/view.asiae.co.kr\\/article\\/2025032610140615898\",\n",
            "\t\t\t\"link\":\"https:\\/\\/n.news.naver.com\\/mnews\\/article\\/277\\/0005567466?sid=102\",\n",
            "\t\t\t\"description\":\"제주에 <b>폭삭<\\/b> 빠졌수다’ 이벤트를 개최해 국내 관광객 유치와 지역 소비 촉진에 나서고 있다. 또한 도내... ‘폭싹 <b>속았수다<\\/b>’ 등 콘텐츠 상품 개발을 위한 도 차원의 적극적인 지원 ▲ 중국 무비자 전국 시행에 따른 제주... \",\n",
            "\t\t\t\"pubDate\":\"Wed, 26 Mar 2025 10:37:00 +0900\"\n",
            "\t\t},\n",
            "\t\t{\n",
            "\t\t\t\"title\":\"'<b>폭삭 속았수다<\\/b>' 촬영지 합천영상테마파크, 레트로 감성 뿜뿜\",\n",
            "\t\t\t\"originallink\":\"http:\\/\\/www.enewstoday.co.kr\\/news\\/articleView.html?idxno=2254913\",\n",
            "\t\t\t\"link\":\"http:\\/\\/www.enewstoday.co.kr\\/news\\/articleView.html?idxno=2254913\",\n",
            "\t\t\t\"description\":\"최근 '<b>폭삭 속았수다<\\/b>'의 촬영지로 유명해진 합천군의 대표 관광지인 합천영상테마파크가 대대적인 리모델링을 거쳐 관람형 콘텐츠를 강화한 공간으로 새롭게 단장됐다. 기존의 외관 위주의 세트장 구성에서 벗어나... \",\n",
            "\t\t\t\"pubDate\":\"Wed, 26 Mar 2025 10:25:00 +0900\"\n",
            "\t\t},\n",
            "\t\t{\n",
            "\t\t\t\"title\":\"[자막뉴스] 내국인 발길 끊긴 제주도...내놓은 비상 대책\",\n",
            "\t\t\t\"originallink\":\"https:\\/\\/www.ytn.co.kr\\/_ln\\/0134_202503261021011504\",\n",
            "\t\t\t\"link\":\"https:\\/\\/n.news.naver.com\\/mnews\\/article\\/052\\/0002171035?sid=102\",\n",
            "\t\t\t\"description\":\"드라마 '폭싹 <b>속았수다<\\/b>' 촬영 명소를 비롯한 주요 명소를 방문한 관광객 200명에게 추첨을 통해 제주 기점... [김희찬 \\/ 제주특별자치도 관광교류국장 : '제주에 <b>폭삭<\\/b> 빠졌수다'를 진행할 계획입니다. 이번 행사는 최근... \",\n",
            "\t\t\t\"pubDate\":\"Wed, 26 Mar 2025 10:21:00 +0900\"\n",
            "\t\t},\n",
            "\t\t{\n",
            "\t\t\t\"title\":\"[이철재의 한 번 읽고 잊어버리는 영어] 인생이 폭싹 힘들 때 'When life g...\",\n",
            "\t\t\t\"originallink\":\"http:\\/\\/topclass.chosun.com\\/news\\/articleView.html?idxno=34393\",\n",
            "\t\t\t\"link\":\"http:\\/\\/topclass.chosun.com\\/news\\/articleView.html?idxno=34393\",\n",
            "\t\t\t\"description\":\"&lt;<b>폭삭 속았수다<\\/b>&gt;에는 내 기억에 남아있는 제주의 모습이 있어 더 좋다. 게다가 제목도 맘에 든다. 제주의 맛을 물씬 풍긴다. 하지만 넷플릭스를 통해 세계 각지의 사람이 볼 드라마의 제목으로 한국인도 알아듣기... \",\n",
            "\t\t\t\"pubDate\":\"Wed, 26 Mar 2025 10:18:00 +0900\"\n",
            "\t\t},\n",
            "\t\t{\n",
            "\t\t\t\"title\":\"오세훈 서울시장, 명태균에 '<b>폭삭 속았수다<\\/b>' [기자수첩-사회]\",\n",
            "\t\t\t\"originallink\":\"https:\\/\\/www.dailian.co.kr\\/news\\/view\\/1476873\\/?sc=Naver\",\n",
            "\t\t\t\"link\":\"https:\\/\\/n.news.naver.com\\/mnews\\/article\\/119\\/0002937312?sid=102\",\n",
            "\t\t\t\"description\":\"최근 넷플릭스 드라마 '폭싹 <b>속았수다<\\/b>'가 큰 인기를 끌고 있다. 제주도 사투리인 '폭싹 <b>속았수다<\\/b>'는 '매우... 지금껏 물증도 없는 명태균의 주장에 검찰도, 오 시장도 <b>폭삭<\\/b> 속은 것이다. 검찰은 조만간 오 시장의 소환 조사를... \",\n",
            "\t\t\t\"pubDate\":\"Wed, 26 Mar 2025 07:00:00 +0900\"\n",
            "\t\t},\n",
            "\t\t{\n",
            "\t\t\t\"title\":\"합천영상테마파크, 관람형 콘텐츠 강화한 공간으로 새 단장\",\n",
            "\t\t\t\"originallink\":\"https:\\/\\/www.viva100.com\\/article\\/20250325501663\",\n",
            "\t\t\t\"link\":\"https:\\/\\/www.viva100.com\\/article\\/20250325501663\",\n",
            "\t\t\t\"description\":\"최근 ‘<b>폭삭 속았수다<\\/b>’의 촬영지로 유명해진 합천군의 대표 관광지인 합천영상테마파크가 대대적인 리모델링을 거쳐 관람형 콘텐츠를 강화한 공간으로 새롭게 단장됐다. 기존의 외관 위주의 세트장 구성에서 벗어나... \",\n",
            "\t\t\t\"pubDate\":\"Tue, 25 Mar 2025 23:32:00 +0900\"\n",
            "\t\t},\n",
            "\t\t{\n",
            "\t\t\t\"title\":\"제5회 대한민국대표축제박람회 제주관광 홍보관 운영\",\n",
            "\t\t\t\"originallink\":\"https:\\/\\/www.gukjenews.com\\/news\\/articleView.html?idxno=3233238\",\n",
            "\t\t\t\"link\":\"https:\\/\\/www.gukjenews.com\\/news\\/articleView.html?idxno=3233238\",\n",
            "\t\t\t\"description\":\"또한 국내에서 가장 먼저 벚꽃이 피는 도두봉, 도로를 따라 이어진 서귀포 위미와 효돈 벚꽃길, 넷플릭스 「<b>폭삭 속았수다<\\/b>」 촬영지 성산일출봉과 인근 유채밭 등을 소개하며 제주의 순수한 자연미를 온전히 홍보토록 했다.... \",\n",
            "\t\t\t\"pubDate\":\"Tue, 25 Mar 2025 20:18:00 +0900\"\n",
            "\t\t}\n",
            "\t]\n",
            "}\n"
          ]
        }
      ],
      "source": [
        "# 네이버 검색 API 예제 - 블로그 검색\n",
        "# blog\n",
        "# news\n",
        "# cafearticle\n",
        "\n",
        "import os\n",
        "import sys\n",
        "import urllib.request\n",
        "\n",
        "client_id = \"lAYN8bzrE1xseoriyh99\"\n",
        "client_secret = \"fY4AnGhBMw\"\n",
        "encText = urllib.parse.quote(\"폭삭 속았수다\")\n",
        "\n",
        "url = \"https://openapi.naver.com/v1/search/news?query=\" + encText # JSON 결과\n",
        "# url = \"https://openapi.naver.com/v1/search/blog.xml?query=\" + encText # XML 결과\n",
        "request = urllib.request.Request(url)\n",
        "request.add_header(\"X-Naver-Client-Id\",client_id)\n",
        "request.add_header(\"X-Naver-Client-Secret\",client_secret)\n",
        "response = urllib.request.urlopen(request)\n",
        "rescode = response.getcode()\n",
        "if(rescode==200):\n",
        "    response_body = response.read()\n",
        "    print(response_body.decode('utf-8'))\n",
        "else:\n",
        "    print(\"Error Code:\" + rescode)"
      ]
    },
    {
      "cell_type": "code",
      "execution_count": null,
      "metadata": {
        "id": "6vuwjdkieHSL",
        "outputId": "3e8b7621-1c88-42c1-e391-0681d6075d0f",
        "colab": {
          "base_uri": "https://localhost:8080/"
        }
      },
      "outputs": [
        {
          "output_type": "stream",
          "name": "stdout",
          "text": [
            "{\n",
            "  \"lastBuildDate\": \"Wed, 26 Mar 2025 13:13:31 +0900\",\n",
            "  \"total\": 1315951,\n",
            "  \"start\": 2,\n",
            "  \"display\": 5,\n",
            "  \"items\": [\n",
            "    {\n",
            "      \"title\": \"애플 <b>아이패드</b> 11세대 A16 와이파이 128GB 미국상품 관부포함\",\n",
            "      \"link\": \"https://smartstore.naver.com/main/products/11553282433\",\n",
            "      \"image\": \"https://shopping-phinf.pstatic.net/main_8909779/89097792839.4.jpg\",\n",
            "      \"lprice\": \"537900\",\n",
            "      \"hprice\": \"\",\n",
            "      \"mallName\": \"모닝델라\",\n",
            "      \"productId\": \"89097792839\",\n",
            "      \"productType\": \"2\",\n",
            "      \"brand\": \"아이패드\",\n",
            "      \"maker\": \"Apple\",\n",
            "      \"category1\": \"디지털/가전\",\n",
            "      \"category2\": \"태블릿PC\",\n",
            "      \"category3\": \"\",\n",
            "      \"category4\": \"\"\n",
            "    },\n",
            "    {\n",
            "      \"title\": \"애플 <b>아이패드</b> 11세대 A16 WIFI 128GB 2025출시 관부포함\",\n",
            "      \"link\": \"https://smartstore.naver.com/main/products/11553506634\",\n",
            "      \"image\": \"https://shopping-phinf.pstatic.net/main_8909801/89098017040.1.jpg\",\n",
            "      \"lprice\": \"526900\",\n",
            "      \"hprice\": \"\",\n",
            "      \"mallName\": \"제니퍼스토리\",\n",
            "      \"productId\": \"89098017040\",\n",
            "      \"productType\": \"2\",\n",
            "      \"brand\": \"아이패드\",\n",
            "      \"maker\": \"Apple\",\n",
            "      \"category1\": \"디지털/가전\",\n",
            "      \"category2\": \"태블릿PC\",\n",
            "      \"category3\": \"\",\n",
            "      \"category4\": \"\"\n",
            "    },\n",
            "    {\n",
            "      \"title\": \"애플 <b>아이패드</b> 에어 6세대 2024년형 11인치 WiFi 128GB\",\n",
            "      \"link\": \"https://smartstore.naver.com/main/products/10317621722\",\n",
            "      \"image\": \"https://shopping-phinf.pstatic.net/main_8786212/87862125848.jpg\",\n",
            "      \"lprice\": \"765000\",\n",
            "      \"hprice\": \"\",\n",
            "      \"mallName\": \"팔리조마켓\",\n",
            "      \"productId\": \"87862125848\",\n",
            "      \"productType\": \"2\",\n",
            "      \"brand\": \"아이패드\",\n",
            "      \"maker\": \"Apple\",\n",
            "      \"category1\": \"디지털/가전\",\n",
            "      \"category2\": \"태블릿PC\",\n",
            "      \"category3\": \"\",\n",
            "      \"category4\": \"\"\n",
            "    },\n",
            "    {\n",
            "      \"title\": \"애플 <b>아이패드</b> 11세대 A16 WIFI 128GB 2025 신제품 미국 발송\",\n",
            "      \"link\": \"https://smartstore.naver.com/main/products/11553327971\",\n",
            "      \"image\": \"https://shopping-phinf.pstatic.net/main_8909783/89097838377.3.jpg\",\n",
            "      \"lprice\": \"503400\",\n",
            "      \"hprice\": \"\",\n",
            "      \"mallName\": \"뉴욕 스토리\",\n",
            "      \"productId\": \"89097838377\",\n",
            "      \"productType\": \"2\",\n",
            "      \"brand\": \"아이패드\",\n",
            "      \"maker\": \"Apple\",\n",
            "      \"category1\": \"디지털/가전\",\n",
            "      \"category2\": \"태블릿PC\",\n",
            "      \"category3\": \"\",\n",
            "      \"category4\": \"\"\n",
            "    },\n",
            "    {\n",
            "      \"title\": \"Apple <b>아이패드</b> 에어 5세대 M1 스페이스 그레이, 64GB, WiFi전용\",\n",
            "      \"link\": \"https://search.shopping.naver.com/catalog/53599140897\",\n",
            "      \"image\": \"https://shopping-phinf.pstatic.net/main_5359914/53599140897.20250317162916.jpg\",\n",
            "      \"lprice\": \"772300\",\n",
            "      \"hprice\": \"\",\n",
            "      \"mallName\": \"네이버\",\n",
            "      \"productId\": \"53599140897\",\n",
            "      \"productType\": \"1\",\n",
            "      \"brand\": \"Apple\",\n",
            "      \"maker\": \"Apple\",\n",
            "      \"category1\": \"디지털/가전\",\n",
            "      \"category2\": \"태블릿PC\",\n",
            "      \"category3\": \"\",\n",
            "      \"category4\": \"\"\n",
            "    }\n",
            "  ]\n",
            "}\n"
          ]
        }
      ],
      "source": [
        "# 코드 직접 작성해보기\n",
        "import requests\n",
        "import json\n",
        "import urllib\n",
        "\n",
        "client_id = \"lAYN8bzrE1xseoriyh99\"\n",
        "client_secret = \"fY4AnGhBMw\"\n",
        "encText = urllib.parse.quote('아이패드')\n",
        "area = 'shop'\n",
        "\n",
        "# 제일 중요 URL 분석\n",
        "url = f\"https://openapi.naver.com/v1/search/{area}.json?query={encText}&start=2&display=5\"\n",
        "headers = {\n",
        "    \"X-Naver-Client-Id\": client_id,\n",
        "    \"X-Naver-Client-Secret\": client_secret\n",
        "}\n",
        "response = requests.get(url, headers=headers)\n",
        "rescode = response.status_code\n",
        "\n",
        "if rescode == 200:\n",
        "\tdata = response.json()\n",
        "\tprint(json.dumps(data, indent=2, ensure_ascii=False))\n",
        "else:\n",
        "\tprint('정상적으로 처리되지 않았습니다.')"
      ]
    },
    {
      "cell_type": "markdown",
      "metadata": {
        "id": "07ydHJofeHSL"
      },
      "source": [
        "## 3. 네이버 검색 API를 활용한 쇼핑 데이터 수집"
      ]
    },
    {
      "cell_type": "markdown",
      "metadata": {
        "id": "06-abGcgeHSL"
      },
      "source": [
        "### 3-1. 검색할 URL을 만드는 함수"
      ]
    },
    {
      "cell_type": "code",
      "execution_count": null,
      "metadata": {
        "id": "g_z6v1QkeHSL"
      },
      "outputs": [],
      "source": [
        "def gen_search_url(search_area, query, start, disp):\n",
        "\tbase = \"https://openapi.naver.com/v1/search\"\n",
        "\tsearch_area = \"/\" + search_area + \".json\"\n",
        "\tquery = \"?query=\" + urllib.parse.quote(query)\n",
        "\tstart = \"&start=\" + str(start)\n",
        "\tdisp = \"&display=\" + str(disp)\n",
        "\turl = base + search_area + query + start + disp\n",
        "\treturn url"
      ]
    },
    {
      "cell_type": "code",
      "execution_count": null,
      "metadata": {
        "id": "iKlsqAZAeHSM",
        "outputId": "6bc6845a-22c2-49de-d8a9-9e6f7f5ee139",
        "colab": {
          "base_uri": "https://localhost:8080/",
          "height": 35
        }
      },
      "outputs": [
        {
          "output_type": "execute_result",
          "data": {
            "text/plain": [
              "'https://openapi.naver.com/v1/search/shop.json?query=%EC%95%84%EC%9D%B4%ED%8C%A8%EB%93%9C&start=2&display=5'"
            ],
            "application/vnd.google.colaboratory.intrinsic+json": {
              "type": "string"
            }
          },
          "metadata": {},
          "execution_count": 9
        }
      ],
      "source": [
        "gen_search_url(\"shop\", \"아이패드\", 2, 5)"
      ]
    },
    {
      "cell_type": "markdown",
      "metadata": {
        "id": "dVa6aKGKeHSM"
      },
      "source": [
        "## 3-2. 한 페이지에서 결과를 받아오는 함수"
      ]
    },
    {
      "cell_type": "code",
      "execution_count": null,
      "metadata": {
        "id": "cFlrbGw9eHSM"
      },
      "outputs": [],
      "source": [
        "import json\n",
        "import datetime\n",
        "\n",
        "def get_result_onepage(url):\n",
        "\theaders = {\n",
        "\t\t\"X-Naver-Client-Id\": client_id,\n",
        "\t\t\"X-Naver-Client-Secret\": client_secret\n",
        "\t}\n",
        "\tresponse = requests.get(url, headers=headers)\n",
        "\trescode = response.status_code\n",
        "\tif rescode == 200:\n",
        "\t\tprint(f'{datetime.datetime.now()} 정상적으로 처리 되었습니다.')\n",
        "\t\tdata = response.json()\n",
        "\t\treturn data\n",
        "\telse:\n",
        "\t\treturn '정상적으로 처리되지 않았습니다.'"
      ]
    },
    {
      "cell_type": "code",
      "execution_count": null,
      "metadata": {
        "id": "Bl-ZuSzgeHSM",
        "outputId": "996ffc39-7e09-4ccb-b00c-1d2a333bb674",
        "colab": {
          "base_uri": "https://localhost:8080/"
        }
      },
      "outputs": [
        {
          "output_type": "stream",
          "name": "stdout",
          "text": [
            "2025-03-26 04:21:06.931206 정상적으로 처리 되었습니다.\n"
          ]
        },
        {
          "output_type": "execute_result",
          "data": {
            "text/plain": [
              "5"
            ]
          },
          "metadata": {},
          "execution_count": 11
        }
      ],
      "source": [
        "url = gen_search_url('shop', '아이패드', 2, 10)\n",
        "result = get_result_onepage(url)\n",
        "len(result)"
      ]
    },
    {
      "cell_type": "code",
      "execution_count": null,
      "metadata": {
        "id": "IVd-9Z5keHSM",
        "outputId": "40a599c1-d8c5-4968-bb51-eea907ea9ee4",
        "colab": {
          "base_uri": "https://localhost:8080/"
        }
      },
      "outputs": [
        {
          "output_type": "execute_result",
          "data": {
            "text/plain": [
              "10"
            ]
          },
          "metadata": {},
          "execution_count": 12
        }
      ],
      "source": [
        "len(result['items'])"
      ]
    },
    {
      "cell_type": "code",
      "execution_count": null,
      "metadata": {
        "id": "m4UNftSReHSM",
        "outputId": "3ac94f38-fbf6-45bb-9045-b17d62462ce9",
        "colab": {
          "base_uri": "https://localhost:8080/"
        }
      },
      "outputs": [
        {
          "output_type": "stream",
          "name": "stdout",
          "text": [
            "애플 <b>아이패드</b> 11세대 A16 와이파이 128GB 미국상품 관부포함\n"
          ]
        }
      ],
      "source": [
        "# 첫 번째 제품의 상품이름(title) 출력하기\n",
        "title = result[\"items\"][0]['title']\n",
        "\n",
        "print(title)"
      ]
    },
    {
      "cell_type": "code",
      "execution_count": null,
      "metadata": {
        "id": "IMODET-leHSM",
        "outputId": "cdffa6e0-8638-4cb9-e1fd-230f8b5e1126",
        "colab": {
          "base_uri": "https://localhost:8080/"
        }
      },
      "outputs": [
        {
          "output_type": "execute_result",
          "data": {
            "text/plain": [
              "{'title': '애플 <b>아이패드</b> 11세대 A16 와이파이 128GB 미국상품 관부포함',\n",
              " 'link': 'https://smartstore.naver.com/main/products/11553282433',\n",
              " 'image': 'https://shopping-phinf.pstatic.net/main_8909779/89097792839.4.jpg',\n",
              " 'lprice': '537900',\n",
              " 'hprice': '',\n",
              " 'mallName': '모닝델라',\n",
              " 'productId': '89097792839',\n",
              " 'productType': '2',\n",
              " 'brand': '아이패드',\n",
              " 'maker': 'Apple',\n",
              " 'category1': '디지털/가전',\n",
              " 'category2': '태블릿PC',\n",
              " 'category3': '',\n",
              " 'category4': ''}"
            ]
          },
          "metadata": {},
          "execution_count": 14
        }
      ],
      "source": [
        "result['items'][0]"
      ]
    },
    {
      "cell_type": "code",
      "execution_count": null,
      "metadata": {
        "id": "7WVqhNfPeHSM",
        "outputId": "6dfbbc4d-9542-4f42-b819-9ca4717759cf",
        "colab": {
          "base_uri": "https://localhost:8080/"
        }
      },
      "outputs": [
        {
          "output_type": "execute_result",
          "data": {
            "text/plain": [
              "('https://smartstore.naver.com/main/products/11553282433', '537900', '모닝델라')"
            ]
          },
          "metadata": {},
          "execution_count": 15
        }
      ],
      "source": [
        "link = result['items'][0]['link']\n",
        "lprice = result['items'][0]['lprice']\n",
        "mall_name = result['items'][0]['mallName']\n",
        "\n",
        "link, lprice, mall_name"
      ]
    },
    {
      "cell_type": "markdown",
      "metadata": {
        "id": "rElJxfP8eHSM"
      },
      "source": [
        "## 3-3. json 파일에서 원하는 정보 추출하는 함수"
      ]
    },
    {
      "cell_type": "code",
      "execution_count": null,
      "metadata": {
        "id": "gUJAI9oxeHSM"
      },
      "outputs": [],
      "source": [
        "# 상품 이름에 HTML태그가 섞여 있습니다.\n",
        "title = result['items'][0]['title']"
      ]
    },
    {
      "cell_type": "code",
      "execution_count": null,
      "metadata": {
        "id": "cjkp1d9zeHSM"
      },
      "outputs": [],
      "source": [
        "def delete_tag(input_str):\n",
        "    input_str = input_str.replace('<b>', '')\n",
        "    input_str = input_str.replace('</b>', '')\n",
        "    input_str = input_str.replace('<\\xa0>', '')\n",
        "    return input_str"
      ]
    },
    {
      "cell_type": "code",
      "execution_count": null,
      "metadata": {
        "id": "ivSnHurKeHSM",
        "outputId": "cc2f30e5-8a2f-44c8-9f5c-745330f7fe60",
        "colab": {
          "base_uri": "https://localhost:8080/",
          "height": 35
        }
      },
      "outputs": [
        {
          "output_type": "execute_result",
          "data": {
            "text/plain": [
              "'애플 아이패드 11세대 A16 와이파이 128GB 미국상품 관부포함'"
            ],
            "application/vnd.google.colaboratory.intrinsic+json": {
              "type": "string"
            }
          },
          "metadata": {},
          "execution_count": 18
        }
      ],
      "source": [
        "delete_tag(title)"
      ]
    },
    {
      "cell_type": "code",
      "execution_count": null,
      "metadata": {
        "id": "jv_acXySeHSM",
        "outputId": "d8faf66b-306d-472d-ff8e-0c335d153446",
        "colab": {
          "base_uri": "https://localhost:8080/"
        }
      },
      "outputs": [
        {
          "output_type": "stream",
          "name": "stdout",
          "text": [
            "2025-03-26 04:21:08.385337 정상적으로 처리 되었습니다.\n"
          ]
        },
        {
          "output_type": "execute_result",
          "data": {
            "text/plain": [
              "10"
            ]
          },
          "metadata": {},
          "execution_count": 19
        }
      ],
      "source": [
        "url = gen_search_url('shop', '아이패드', 1, 10)\n",
        "one_result = get_result_onepage(url)\n",
        "len(one_result['items'])"
      ]
    },
    {
      "cell_type": "code",
      "execution_count": null,
      "metadata": {
        "id": "OWurrtJ8eHSM",
        "outputId": "5c72c068-a1c4-4f40-a728-182292b404a5",
        "colab": {
          "base_uri": "https://localhost:8080/",
          "height": 35
        }
      },
      "outputs": [
        {
          "output_type": "execute_result",
          "data": {
            "text/plain": [
              "'Apple 아이패드 에어 11 6세대 M2 스페이스그레이, 128GB, WiFi전용'"
            ],
            "application/vnd.google.colaboratory.intrinsic+json": {
              "type": "string"
            }
          },
          "metadata": {},
          "execution_count": 20
        }
      ],
      "source": [
        "titles = []\n",
        "for title in one_result['items']:\n",
        "    title = title['title']\n",
        "    title = delete_tag(title)\n",
        "    titles.append(title)\n",
        "\n",
        "titles[0]"
      ]
    },
    {
      "cell_type": "code",
      "execution_count": null,
      "metadata": {
        "id": "c9J63bO8eHSN"
      },
      "outputs": [],
      "source": [
        "import pandas as pd\n",
        "\n",
        "def get_df(json_data):\n",
        "\ttitle = [delete_tag(each['title']) for each in json_data['items']]\n",
        "\tlink = [each['link'] for each in json_data['items']]\n",
        "\tlprice = [each['lprice'] for each in json_data['items']]\n",
        "\tmall_name = [each['mallName'] for each in json_data['items']]\n",
        "\n",
        "\t# 딕셔너리에 리스트 데이터 타입\n",
        "\tdf = pd.DataFrame({\n",
        "\t\t'title': title,\n",
        "\t\t'link': link,\n",
        "\t\t'lprice': lprice,\n",
        "\t\t'mall': mall_name\n",
        "\t}, columns=['title', 'lprice', 'mall', 'link'])\n",
        "\n",
        "\treturn df"
      ]
    },
    {
      "cell_type": "code",
      "execution_count": null,
      "metadata": {
        "id": "41ZNA2CpeHSN",
        "outputId": "b8a72cf8-3f63-469b-b39d-964db45963b5",
        "colab": {
          "base_uri": "https://localhost:8080/",
          "height": 363
        }
      },
      "outputs": [
        {
          "output_type": "execute_result",
          "data": {
            "text/plain": [
              "                                               title   lprice    mall  \\\n",
              "0     Apple 아이패드 에어 11 6세대 M2 스페이스그레이, 128GB, WiFi전용  1020000     네이버   \n",
              "1              애플 아이패드 11세대 A16 와이파이 128GB 미국상품 관부포함   537900    모닝델라   \n",
              "2            애플 아이패드 11세대 A16 WIFI 128GB 2025출시 관부포함   526900  제니퍼스토리   \n",
              "3              애플 아이패드 에어 6세대 2024년형 11인치 WiFi 128GB   765000   팔리조마켓   \n",
              "4         애플 아이패드 11세대 A16 WIFI 128GB 2025 신제품 미국 발송   503400  뉴욕 스토리   \n",
              "5        Apple 아이패드 에어 5세대 M1 스페이스 그레이, 64GB, WiFi전용   772300     네이버   \n",
              "6       Apple 아이패드 에어 11 6세대 M2 스타라이트, 128GB, WiFi전용   995000     네이버   \n",
              "7           애플정품 아이패드프로 아이패드 프로 2세대 10.5 (2017) 64GB   489000  베스트 클릭   \n",
              "8  Apple 아이패드 프로 13 7세대 M4 스탠다드 글래스 스페이스 블랙, 256G...  1868980     네이버   \n",
              "9     Apple 아이패드 에어 13 6세대 M2 스페이스그레이, 128GB, WiFi전용  1163020     네이버   \n",
              "\n",
              "                                                link  \n",
              "0  https://search.shopping.naver.com/catalog/5287...  \n",
              "1  https://smartstore.naver.com/main/products/115...  \n",
              "2  https://smartstore.naver.com/main/products/115...  \n",
              "3  https://smartstore.naver.com/main/products/103...  \n",
              "4  https://smartstore.naver.com/main/products/115...  \n",
              "5  https://search.shopping.naver.com/catalog/5359...  \n",
              "6  https://search.shopping.naver.com/catalog/5287...  \n",
              "7  https://smartstore.naver.com/main/products/472...  \n",
              "8  https://search.shopping.naver.com/catalog/5349...  \n",
              "9  https://search.shopping.naver.com/catalog/5331...  "
            ],
            "text/html": [
              "\n",
              "  <div id=\"df-a8e8bdd1-a13c-4a85-b2bb-fa960c197513\" class=\"colab-df-container\">\n",
              "    <div>\n",
              "<style scoped>\n",
              "    .dataframe tbody tr th:only-of-type {\n",
              "        vertical-align: middle;\n",
              "    }\n",
              "\n",
              "    .dataframe tbody tr th {\n",
              "        vertical-align: top;\n",
              "    }\n",
              "\n",
              "    .dataframe thead th {\n",
              "        text-align: right;\n",
              "    }\n",
              "</style>\n",
              "<table border=\"1\" class=\"dataframe\">\n",
              "  <thead>\n",
              "    <tr style=\"text-align: right;\">\n",
              "      <th></th>\n",
              "      <th>title</th>\n",
              "      <th>lprice</th>\n",
              "      <th>mall</th>\n",
              "      <th>link</th>\n",
              "    </tr>\n",
              "  </thead>\n",
              "  <tbody>\n",
              "    <tr>\n",
              "      <th>0</th>\n",
              "      <td>Apple 아이패드 에어 11 6세대 M2 스페이스그레이, 128GB, WiFi전용</td>\n",
              "      <td>1020000</td>\n",
              "      <td>네이버</td>\n",
              "      <td>https://search.shopping.naver.com/catalog/5287...</td>\n",
              "    </tr>\n",
              "    <tr>\n",
              "      <th>1</th>\n",
              "      <td>애플 아이패드 11세대 A16 와이파이 128GB 미국상품 관부포함</td>\n",
              "      <td>537900</td>\n",
              "      <td>모닝델라</td>\n",
              "      <td>https://smartstore.naver.com/main/products/115...</td>\n",
              "    </tr>\n",
              "    <tr>\n",
              "      <th>2</th>\n",
              "      <td>애플 아이패드 11세대 A16 WIFI 128GB 2025출시 관부포함</td>\n",
              "      <td>526900</td>\n",
              "      <td>제니퍼스토리</td>\n",
              "      <td>https://smartstore.naver.com/main/products/115...</td>\n",
              "    </tr>\n",
              "    <tr>\n",
              "      <th>3</th>\n",
              "      <td>애플 아이패드 에어 6세대 2024년형 11인치 WiFi 128GB</td>\n",
              "      <td>765000</td>\n",
              "      <td>팔리조마켓</td>\n",
              "      <td>https://smartstore.naver.com/main/products/103...</td>\n",
              "    </tr>\n",
              "    <tr>\n",
              "      <th>4</th>\n",
              "      <td>애플 아이패드 11세대 A16 WIFI 128GB 2025 신제품 미국 발송</td>\n",
              "      <td>503400</td>\n",
              "      <td>뉴욕 스토리</td>\n",
              "      <td>https://smartstore.naver.com/main/products/115...</td>\n",
              "    </tr>\n",
              "    <tr>\n",
              "      <th>5</th>\n",
              "      <td>Apple 아이패드 에어 5세대 M1 스페이스 그레이, 64GB, WiFi전용</td>\n",
              "      <td>772300</td>\n",
              "      <td>네이버</td>\n",
              "      <td>https://search.shopping.naver.com/catalog/5359...</td>\n",
              "    </tr>\n",
              "    <tr>\n",
              "      <th>6</th>\n",
              "      <td>Apple 아이패드 에어 11 6세대 M2 스타라이트, 128GB, WiFi전용</td>\n",
              "      <td>995000</td>\n",
              "      <td>네이버</td>\n",
              "      <td>https://search.shopping.naver.com/catalog/5287...</td>\n",
              "    </tr>\n",
              "    <tr>\n",
              "      <th>7</th>\n",
              "      <td>애플정품 아이패드프로 아이패드 프로 2세대 10.5 (2017) 64GB</td>\n",
              "      <td>489000</td>\n",
              "      <td>베스트 클릭</td>\n",
              "      <td>https://smartstore.naver.com/main/products/472...</td>\n",
              "    </tr>\n",
              "    <tr>\n",
              "      <th>8</th>\n",
              "      <td>Apple 아이패드 프로 13 7세대 M4 스탠다드 글래스 스페이스 블랙, 256G...</td>\n",
              "      <td>1868980</td>\n",
              "      <td>네이버</td>\n",
              "      <td>https://search.shopping.naver.com/catalog/5349...</td>\n",
              "    </tr>\n",
              "    <tr>\n",
              "      <th>9</th>\n",
              "      <td>Apple 아이패드 에어 13 6세대 M2 스페이스그레이, 128GB, WiFi전용</td>\n",
              "      <td>1163020</td>\n",
              "      <td>네이버</td>\n",
              "      <td>https://search.shopping.naver.com/catalog/5331...</td>\n",
              "    </tr>\n",
              "  </tbody>\n",
              "</table>\n",
              "</div>\n",
              "    <div class=\"colab-df-buttons\">\n",
              "\n",
              "  <div class=\"colab-df-container\">\n",
              "    <button class=\"colab-df-convert\" onclick=\"convertToInteractive('df-a8e8bdd1-a13c-4a85-b2bb-fa960c197513')\"\n",
              "            title=\"Convert this dataframe to an interactive table.\"\n",
              "            style=\"display:none;\">\n",
              "\n",
              "  <svg xmlns=\"http://www.w3.org/2000/svg\" height=\"24px\" viewBox=\"0 -960 960 960\">\n",
              "    <path d=\"M120-120v-720h720v720H120Zm60-500h600v-160H180v160Zm220 220h160v-160H400v160Zm0 220h160v-160H400v160ZM180-400h160v-160H180v160Zm440 0h160v-160H620v160ZM180-180h160v-160H180v160Zm440 0h160v-160H620v160Z\"/>\n",
              "  </svg>\n",
              "    </button>\n",
              "\n",
              "  <style>\n",
              "    .colab-df-container {\n",
              "      display:flex;\n",
              "      gap: 12px;\n",
              "    }\n",
              "\n",
              "    .colab-df-convert {\n",
              "      background-color: #E8F0FE;\n",
              "      border: none;\n",
              "      border-radius: 50%;\n",
              "      cursor: pointer;\n",
              "      display: none;\n",
              "      fill: #1967D2;\n",
              "      height: 32px;\n",
              "      padding: 0 0 0 0;\n",
              "      width: 32px;\n",
              "    }\n",
              "\n",
              "    .colab-df-convert:hover {\n",
              "      background-color: #E2EBFA;\n",
              "      box-shadow: 0px 1px 2px rgba(60, 64, 67, 0.3), 0px 1px 3px 1px rgba(60, 64, 67, 0.15);\n",
              "      fill: #174EA6;\n",
              "    }\n",
              "\n",
              "    .colab-df-buttons div {\n",
              "      margin-bottom: 4px;\n",
              "    }\n",
              "\n",
              "    [theme=dark] .colab-df-convert {\n",
              "      background-color: #3B4455;\n",
              "      fill: #D2E3FC;\n",
              "    }\n",
              "\n",
              "    [theme=dark] .colab-df-convert:hover {\n",
              "      background-color: #434B5C;\n",
              "      box-shadow: 0px 1px 3px 1px rgba(0, 0, 0, 0.15);\n",
              "      filter: drop-shadow(0px 1px 2px rgba(0, 0, 0, 0.3));\n",
              "      fill: #FFFFFF;\n",
              "    }\n",
              "  </style>\n",
              "\n",
              "    <script>\n",
              "      const buttonEl =\n",
              "        document.querySelector('#df-a8e8bdd1-a13c-4a85-b2bb-fa960c197513 button.colab-df-convert');\n",
              "      buttonEl.style.display =\n",
              "        google.colab.kernel.accessAllowed ? 'block' : 'none';\n",
              "\n",
              "      async function convertToInteractive(key) {\n",
              "        const element = document.querySelector('#df-a8e8bdd1-a13c-4a85-b2bb-fa960c197513');\n",
              "        const dataTable =\n",
              "          await google.colab.kernel.invokeFunction('convertToInteractive',\n",
              "                                                    [key], {});\n",
              "        if (!dataTable) return;\n",
              "\n",
              "        const docLinkHtml = 'Like what you see? Visit the ' +\n",
              "          '<a target=\"_blank\" href=https://colab.research.google.com/notebooks/data_table.ipynb>data table notebook</a>'\n",
              "          + ' to learn more about interactive tables.';\n",
              "        element.innerHTML = '';\n",
              "        dataTable['output_type'] = 'display_data';\n",
              "        await google.colab.output.renderOutput(dataTable, element);\n",
              "        const docLink = document.createElement('div');\n",
              "        docLink.innerHTML = docLinkHtml;\n",
              "        element.appendChild(docLink);\n",
              "      }\n",
              "    </script>\n",
              "  </div>\n",
              "\n",
              "\n",
              "<div id=\"df-f12fd92f-68ff-4c3f-bfbf-7af9be1b4ca8\">\n",
              "  <button class=\"colab-df-quickchart\" onclick=\"quickchart('df-f12fd92f-68ff-4c3f-bfbf-7af9be1b4ca8')\"\n",
              "            title=\"Suggest charts\"\n",
              "            style=\"display:none;\">\n",
              "\n",
              "<svg xmlns=\"http://www.w3.org/2000/svg\" height=\"24px\"viewBox=\"0 0 24 24\"\n",
              "     width=\"24px\">\n",
              "    <g>\n",
              "        <path d=\"M19 3H5c-1.1 0-2 .9-2 2v14c0 1.1.9 2 2 2h14c1.1 0 2-.9 2-2V5c0-1.1-.9-2-2-2zM9 17H7v-7h2v7zm4 0h-2V7h2v10zm4 0h-2v-4h2v4z\"/>\n",
              "    </g>\n",
              "</svg>\n",
              "  </button>\n",
              "\n",
              "<style>\n",
              "  .colab-df-quickchart {\n",
              "      --bg-color: #E8F0FE;\n",
              "      --fill-color: #1967D2;\n",
              "      --hover-bg-color: #E2EBFA;\n",
              "      --hover-fill-color: #174EA6;\n",
              "      --disabled-fill-color: #AAA;\n",
              "      --disabled-bg-color: #DDD;\n",
              "  }\n",
              "\n",
              "  [theme=dark] .colab-df-quickchart {\n",
              "      --bg-color: #3B4455;\n",
              "      --fill-color: #D2E3FC;\n",
              "      --hover-bg-color: #434B5C;\n",
              "      --hover-fill-color: #FFFFFF;\n",
              "      --disabled-bg-color: #3B4455;\n",
              "      --disabled-fill-color: #666;\n",
              "  }\n",
              "\n",
              "  .colab-df-quickchart {\n",
              "    background-color: var(--bg-color);\n",
              "    border: none;\n",
              "    border-radius: 50%;\n",
              "    cursor: pointer;\n",
              "    display: none;\n",
              "    fill: var(--fill-color);\n",
              "    height: 32px;\n",
              "    padding: 0;\n",
              "    width: 32px;\n",
              "  }\n",
              "\n",
              "  .colab-df-quickchart:hover {\n",
              "    background-color: var(--hover-bg-color);\n",
              "    box-shadow: 0 1px 2px rgba(60, 64, 67, 0.3), 0 1px 3px 1px rgba(60, 64, 67, 0.15);\n",
              "    fill: var(--button-hover-fill-color);\n",
              "  }\n",
              "\n",
              "  .colab-df-quickchart-complete:disabled,\n",
              "  .colab-df-quickchart-complete:disabled:hover {\n",
              "    background-color: var(--disabled-bg-color);\n",
              "    fill: var(--disabled-fill-color);\n",
              "    box-shadow: none;\n",
              "  }\n",
              "\n",
              "  .colab-df-spinner {\n",
              "    border: 2px solid var(--fill-color);\n",
              "    border-color: transparent;\n",
              "    border-bottom-color: var(--fill-color);\n",
              "    animation:\n",
              "      spin 1s steps(1) infinite;\n",
              "  }\n",
              "\n",
              "  @keyframes spin {\n",
              "    0% {\n",
              "      border-color: transparent;\n",
              "      border-bottom-color: var(--fill-color);\n",
              "      border-left-color: var(--fill-color);\n",
              "    }\n",
              "    20% {\n",
              "      border-color: transparent;\n",
              "      border-left-color: var(--fill-color);\n",
              "      border-top-color: var(--fill-color);\n",
              "    }\n",
              "    30% {\n",
              "      border-color: transparent;\n",
              "      border-left-color: var(--fill-color);\n",
              "      border-top-color: var(--fill-color);\n",
              "      border-right-color: var(--fill-color);\n",
              "    }\n",
              "    40% {\n",
              "      border-color: transparent;\n",
              "      border-right-color: var(--fill-color);\n",
              "      border-top-color: var(--fill-color);\n",
              "    }\n",
              "    60% {\n",
              "      border-color: transparent;\n",
              "      border-right-color: var(--fill-color);\n",
              "    }\n",
              "    80% {\n",
              "      border-color: transparent;\n",
              "      border-right-color: var(--fill-color);\n",
              "      border-bottom-color: var(--fill-color);\n",
              "    }\n",
              "    90% {\n",
              "      border-color: transparent;\n",
              "      border-bottom-color: var(--fill-color);\n",
              "    }\n",
              "  }\n",
              "</style>\n",
              "\n",
              "  <script>\n",
              "    async function quickchart(key) {\n",
              "      const quickchartButtonEl =\n",
              "        document.querySelector('#' + key + ' button');\n",
              "      quickchartButtonEl.disabled = true;  // To prevent multiple clicks.\n",
              "      quickchartButtonEl.classList.add('colab-df-spinner');\n",
              "      try {\n",
              "        const charts = await google.colab.kernel.invokeFunction(\n",
              "            'suggestCharts', [key], {});\n",
              "      } catch (error) {\n",
              "        console.error('Error during call to suggestCharts:', error);\n",
              "      }\n",
              "      quickchartButtonEl.classList.remove('colab-df-spinner');\n",
              "      quickchartButtonEl.classList.add('colab-df-quickchart-complete');\n",
              "    }\n",
              "    (() => {\n",
              "      let quickchartButtonEl =\n",
              "        document.querySelector('#df-f12fd92f-68ff-4c3f-bfbf-7af9be1b4ca8 button');\n",
              "      quickchartButtonEl.style.display =\n",
              "        google.colab.kernel.accessAllowed ? 'block' : 'none';\n",
              "    })();\n",
              "  </script>\n",
              "</div>\n",
              "\n",
              "    </div>\n",
              "  </div>\n"
            ],
            "application/vnd.google.colaboratory.intrinsic+json": {
              "type": "dataframe",
              "summary": "{\n  \"name\": \"get_df(one_result)\",\n  \"rows\": 10,\n  \"fields\": [\n    {\n      \"column\": \"title\",\n      \"properties\": {\n        \"dtype\": \"string\",\n        \"num_unique_values\": 10,\n        \"samples\": [\n          \"Apple \\uc544\\uc774\\ud328\\ub4dc \\ud504\\ub85c 13 7\\uc138\\ub300 M4 \\uc2a4\\ud0e0\\ub2e4\\ub4dc \\uae00\\ub798\\uc2a4 \\uc2a4\\ud398\\uc774\\uc2a4 \\ube14\\ub799, 256GB, WiFi\\uc804\\uc6a9\",\n          \"\\uc560\\ud50c \\uc544\\uc774\\ud328\\ub4dc 11\\uc138\\ub300 A16 \\uc640\\uc774\\ud30c\\uc774 128GB \\ubbf8\\uad6d\\uc0c1\\ud488 \\uad00\\ubd80\\ud3ec\\ud568\",\n          \"Apple \\uc544\\uc774\\ud328\\ub4dc \\uc5d0\\uc5b4\\u00a05\\uc138\\ub300 M1 \\uc2a4\\ud398\\uc774\\uc2a4 \\uadf8\\ub808\\uc774, 64GB, WiFi\\uc804\\uc6a9\"\n        ],\n        \"semantic_type\": \"\",\n        \"description\": \"\"\n      }\n    },\n    {\n      \"column\": \"lprice\",\n      \"properties\": {\n        \"dtype\": \"string\",\n        \"num_unique_values\": 10,\n        \"samples\": [\n          \"1868980\",\n          \"537900\",\n          \"772300\"\n        ],\n        \"semantic_type\": \"\",\n        \"description\": \"\"\n      }\n    },\n    {\n      \"column\": \"mall\",\n      \"properties\": {\n        \"dtype\": \"string\",\n        \"num_unique_values\": 6,\n        \"samples\": [\n          \"\\ub124\\uc774\\ubc84\",\n          \"\\ubaa8\\ub2dd\\ub378\\ub77c\",\n          \"\\ubca0\\uc2a4\\ud2b8 \\ud074\\ub9ad\"\n        ],\n        \"semantic_type\": \"\",\n        \"description\": \"\"\n      }\n    },\n    {\n      \"column\": \"link\",\n      \"properties\": {\n        \"dtype\": \"string\",\n        \"num_unique_values\": 10,\n        \"samples\": [\n          \"https://search.shopping.naver.com/catalog/53491820442\",\n          \"https://smartstore.naver.com/main/products/11553282433\",\n          \"https://search.shopping.naver.com/catalog/53599140897\"\n        ],\n        \"semantic_type\": \"\",\n        \"description\": \"\"\n      }\n    }\n  ]\n}"
            }
          },
          "metadata": {},
          "execution_count": 22
        }
      ],
      "source": [
        "get_df(one_result)"
      ]
    },
    {
      "cell_type": "code",
      "execution_count": null,
      "metadata": {
        "id": "0-uWY-2OeHSN",
        "outputId": "d951189d-af32-474f-b0ac-c01e26fa541c",
        "colab": {
          "base_uri": "https://localhost:8080/",
          "height": 224
        }
      },
      "outputs": [
        {
          "output_type": "stream",
          "name": "stdout",
          "text": [
            "2025-03-26 04:21:09.546412 정상적으로 처리 되었습니다.\n"
          ]
        },
        {
          "output_type": "execute_result",
          "data": {
            "text/plain": [
              "                                              title lprice  mall  \\\n",
              "95             독일 줌 돋보기안경 블루라이트 차단 원근 양용 남공용돋보기노안안경   4860  11번가   \n",
              "96                   2p 블루라이트 원근 양용 스마트 줌 안티 돋보기 안경   3170   네이버   \n",
              "97         휴대용 목걸이형 필통 돋보기 안경 미니 고화질 여패션 초경량 남성 노인안  12620  11번가   \n",
              "98                         확대경 돋보기 정밀작업 안경 감정 확대 루페   5200   네이버   \n",
              "99  휴대용 돋보기 안경 노안 초경량 목걸이형 필통 미니 고화질 블루레이 방지 접이식 간편  17410   네이버   \n",
              "\n",
              "                                                 link  \n",
              "95  https://www.11st.co.kr/connect/Gateway.tmall?m...  \n",
              "96  https://search.shopping.naver.com/catalog/5261...  \n",
              "97  https://www.11st.co.kr/connect/Gateway.tmall?m...  \n",
              "98  https://search.shopping.naver.com/catalog/2961...  \n",
              "99  https://search.shopping.naver.com/catalog/4630...  "
            ],
            "text/html": [
              "\n",
              "  <div id=\"df-bc6768af-2fa9-4772-8e2c-648a6ba60940\" class=\"colab-df-container\">\n",
              "    <div>\n",
              "<style scoped>\n",
              "    .dataframe tbody tr th:only-of-type {\n",
              "        vertical-align: middle;\n",
              "    }\n",
              "\n",
              "    .dataframe tbody tr th {\n",
              "        vertical-align: top;\n",
              "    }\n",
              "\n",
              "    .dataframe thead th {\n",
              "        text-align: right;\n",
              "    }\n",
              "</style>\n",
              "<table border=\"1\" class=\"dataframe\">\n",
              "  <thead>\n",
              "    <tr style=\"text-align: right;\">\n",
              "      <th></th>\n",
              "      <th>title</th>\n",
              "      <th>lprice</th>\n",
              "      <th>mall</th>\n",
              "      <th>link</th>\n",
              "    </tr>\n",
              "  </thead>\n",
              "  <tbody>\n",
              "    <tr>\n",
              "      <th>95</th>\n",
              "      <td>독일 줌 돋보기안경 블루라이트 차단 원근 양용 남공용돋보기노안안경</td>\n",
              "      <td>4860</td>\n",
              "      <td>11번가</td>\n",
              "      <td>https://www.11st.co.kr/connect/Gateway.tmall?m...</td>\n",
              "    </tr>\n",
              "    <tr>\n",
              "      <th>96</th>\n",
              "      <td>2p 블루라이트 원근 양용 스마트 줌 안티 돋보기 안경</td>\n",
              "      <td>3170</td>\n",
              "      <td>네이버</td>\n",
              "      <td>https://search.shopping.naver.com/catalog/5261...</td>\n",
              "    </tr>\n",
              "    <tr>\n",
              "      <th>97</th>\n",
              "      <td>휴대용 목걸이형 필통 돋보기 안경 미니 고화질 여패션 초경량 남성 노인안</td>\n",
              "      <td>12620</td>\n",
              "      <td>11번가</td>\n",
              "      <td>https://www.11st.co.kr/connect/Gateway.tmall?m...</td>\n",
              "    </tr>\n",
              "    <tr>\n",
              "      <th>98</th>\n",
              "      <td>확대경 돋보기 정밀작업 안경 감정 확대 루페</td>\n",
              "      <td>5200</td>\n",
              "      <td>네이버</td>\n",
              "      <td>https://search.shopping.naver.com/catalog/2961...</td>\n",
              "    </tr>\n",
              "    <tr>\n",
              "      <th>99</th>\n",
              "      <td>휴대용 돋보기 안경 노안 초경량 목걸이형 필통 미니 고화질 블루레이 방지 접이식 간편</td>\n",
              "      <td>17410</td>\n",
              "      <td>네이버</td>\n",
              "      <td>https://search.shopping.naver.com/catalog/4630...</td>\n",
              "    </tr>\n",
              "  </tbody>\n",
              "</table>\n",
              "</div>\n",
              "    <div class=\"colab-df-buttons\">\n",
              "\n",
              "  <div class=\"colab-df-container\">\n",
              "    <button class=\"colab-df-convert\" onclick=\"convertToInteractive('df-bc6768af-2fa9-4772-8e2c-648a6ba60940')\"\n",
              "            title=\"Convert this dataframe to an interactive table.\"\n",
              "            style=\"display:none;\">\n",
              "\n",
              "  <svg xmlns=\"http://www.w3.org/2000/svg\" height=\"24px\" viewBox=\"0 -960 960 960\">\n",
              "    <path d=\"M120-120v-720h720v720H120Zm60-500h600v-160H180v160Zm220 220h160v-160H400v160Zm0 220h160v-160H400v160ZM180-400h160v-160H180v160Zm440 0h160v-160H620v160ZM180-180h160v-160H180v160Zm440 0h160v-160H620v160Z\"/>\n",
              "  </svg>\n",
              "    </button>\n",
              "\n",
              "  <style>\n",
              "    .colab-df-container {\n",
              "      display:flex;\n",
              "      gap: 12px;\n",
              "    }\n",
              "\n",
              "    .colab-df-convert {\n",
              "      background-color: #E8F0FE;\n",
              "      border: none;\n",
              "      border-radius: 50%;\n",
              "      cursor: pointer;\n",
              "      display: none;\n",
              "      fill: #1967D2;\n",
              "      height: 32px;\n",
              "      padding: 0 0 0 0;\n",
              "      width: 32px;\n",
              "    }\n",
              "\n",
              "    .colab-df-convert:hover {\n",
              "      background-color: #E2EBFA;\n",
              "      box-shadow: 0px 1px 2px rgba(60, 64, 67, 0.3), 0px 1px 3px 1px rgba(60, 64, 67, 0.15);\n",
              "      fill: #174EA6;\n",
              "    }\n",
              "\n",
              "    .colab-df-buttons div {\n",
              "      margin-bottom: 4px;\n",
              "    }\n",
              "\n",
              "    [theme=dark] .colab-df-convert {\n",
              "      background-color: #3B4455;\n",
              "      fill: #D2E3FC;\n",
              "    }\n",
              "\n",
              "    [theme=dark] .colab-df-convert:hover {\n",
              "      background-color: #434B5C;\n",
              "      box-shadow: 0px 1px 3px 1px rgba(0, 0, 0, 0.15);\n",
              "      filter: drop-shadow(0px 1px 2px rgba(0, 0, 0, 0.3));\n",
              "      fill: #FFFFFF;\n",
              "    }\n",
              "  </style>\n",
              "\n",
              "    <script>\n",
              "      const buttonEl =\n",
              "        document.querySelector('#df-bc6768af-2fa9-4772-8e2c-648a6ba60940 button.colab-df-convert');\n",
              "      buttonEl.style.display =\n",
              "        google.colab.kernel.accessAllowed ? 'block' : 'none';\n",
              "\n",
              "      async function convertToInteractive(key) {\n",
              "        const element = document.querySelector('#df-bc6768af-2fa9-4772-8e2c-648a6ba60940');\n",
              "        const dataTable =\n",
              "          await google.colab.kernel.invokeFunction('convertToInteractive',\n",
              "                                                    [key], {});\n",
              "        if (!dataTable) return;\n",
              "\n",
              "        const docLinkHtml = 'Like what you see? Visit the ' +\n",
              "          '<a target=\"_blank\" href=https://colab.research.google.com/notebooks/data_table.ipynb>data table notebook</a>'\n",
              "          + ' to learn more about interactive tables.';\n",
              "        element.innerHTML = '';\n",
              "        dataTable['output_type'] = 'display_data';\n",
              "        await google.colab.output.renderOutput(dataTable, element);\n",
              "        const docLink = document.createElement('div');\n",
              "        docLink.innerHTML = docLinkHtml;\n",
              "        element.appendChild(docLink);\n",
              "      }\n",
              "    </script>\n",
              "  </div>\n",
              "\n",
              "\n",
              "<div id=\"df-dac77860-848b-418c-a3ca-d608b5e76989\">\n",
              "  <button class=\"colab-df-quickchart\" onclick=\"quickchart('df-dac77860-848b-418c-a3ca-d608b5e76989')\"\n",
              "            title=\"Suggest charts\"\n",
              "            style=\"display:none;\">\n",
              "\n",
              "<svg xmlns=\"http://www.w3.org/2000/svg\" height=\"24px\"viewBox=\"0 0 24 24\"\n",
              "     width=\"24px\">\n",
              "    <g>\n",
              "        <path d=\"M19 3H5c-1.1 0-2 .9-2 2v14c0 1.1.9 2 2 2h14c1.1 0 2-.9 2-2V5c0-1.1-.9-2-2-2zM9 17H7v-7h2v7zm4 0h-2V7h2v10zm4 0h-2v-4h2v4z\"/>\n",
              "    </g>\n",
              "</svg>\n",
              "  </button>\n",
              "\n",
              "<style>\n",
              "  .colab-df-quickchart {\n",
              "      --bg-color: #E8F0FE;\n",
              "      --fill-color: #1967D2;\n",
              "      --hover-bg-color: #E2EBFA;\n",
              "      --hover-fill-color: #174EA6;\n",
              "      --disabled-fill-color: #AAA;\n",
              "      --disabled-bg-color: #DDD;\n",
              "  }\n",
              "\n",
              "  [theme=dark] .colab-df-quickchart {\n",
              "      --bg-color: #3B4455;\n",
              "      --fill-color: #D2E3FC;\n",
              "      --hover-bg-color: #434B5C;\n",
              "      --hover-fill-color: #FFFFFF;\n",
              "      --disabled-bg-color: #3B4455;\n",
              "      --disabled-fill-color: #666;\n",
              "  }\n",
              "\n",
              "  .colab-df-quickchart {\n",
              "    background-color: var(--bg-color);\n",
              "    border: none;\n",
              "    border-radius: 50%;\n",
              "    cursor: pointer;\n",
              "    display: none;\n",
              "    fill: var(--fill-color);\n",
              "    height: 32px;\n",
              "    padding: 0;\n",
              "    width: 32px;\n",
              "  }\n",
              "\n",
              "  .colab-df-quickchart:hover {\n",
              "    background-color: var(--hover-bg-color);\n",
              "    box-shadow: 0 1px 2px rgba(60, 64, 67, 0.3), 0 1px 3px 1px rgba(60, 64, 67, 0.15);\n",
              "    fill: var(--button-hover-fill-color);\n",
              "  }\n",
              "\n",
              "  .colab-df-quickchart-complete:disabled,\n",
              "  .colab-df-quickchart-complete:disabled:hover {\n",
              "    background-color: var(--disabled-bg-color);\n",
              "    fill: var(--disabled-fill-color);\n",
              "    box-shadow: none;\n",
              "  }\n",
              "\n",
              "  .colab-df-spinner {\n",
              "    border: 2px solid var(--fill-color);\n",
              "    border-color: transparent;\n",
              "    border-bottom-color: var(--fill-color);\n",
              "    animation:\n",
              "      spin 1s steps(1) infinite;\n",
              "  }\n",
              "\n",
              "  @keyframes spin {\n",
              "    0% {\n",
              "      border-color: transparent;\n",
              "      border-bottom-color: var(--fill-color);\n",
              "      border-left-color: var(--fill-color);\n",
              "    }\n",
              "    20% {\n",
              "      border-color: transparent;\n",
              "      border-left-color: var(--fill-color);\n",
              "      border-top-color: var(--fill-color);\n",
              "    }\n",
              "    30% {\n",
              "      border-color: transparent;\n",
              "      border-left-color: var(--fill-color);\n",
              "      border-top-color: var(--fill-color);\n",
              "      border-right-color: var(--fill-color);\n",
              "    }\n",
              "    40% {\n",
              "      border-color: transparent;\n",
              "      border-right-color: var(--fill-color);\n",
              "      border-top-color: var(--fill-color);\n",
              "    }\n",
              "    60% {\n",
              "      border-color: transparent;\n",
              "      border-right-color: var(--fill-color);\n",
              "    }\n",
              "    80% {\n",
              "      border-color: transparent;\n",
              "      border-right-color: var(--fill-color);\n",
              "      border-bottom-color: var(--fill-color);\n",
              "    }\n",
              "    90% {\n",
              "      border-color: transparent;\n",
              "      border-bottom-color: var(--fill-color);\n",
              "    }\n",
              "  }\n",
              "</style>\n",
              "\n",
              "  <script>\n",
              "    async function quickchart(key) {\n",
              "      const quickchartButtonEl =\n",
              "        document.querySelector('#' + key + ' button');\n",
              "      quickchartButtonEl.disabled = true;  // To prevent multiple clicks.\n",
              "      quickchartButtonEl.classList.add('colab-df-spinner');\n",
              "      try {\n",
              "        const charts = await google.colab.kernel.invokeFunction(\n",
              "            'suggestCharts', [key], {});\n",
              "      } catch (error) {\n",
              "        console.error('Error during call to suggestCharts:', error);\n",
              "      }\n",
              "      quickchartButtonEl.classList.remove('colab-df-spinner');\n",
              "      quickchartButtonEl.classList.add('colab-df-quickchart-complete');\n",
              "    }\n",
              "    (() => {\n",
              "      let quickchartButtonEl =\n",
              "        document.querySelector('#df-dac77860-848b-418c-a3ca-d608b5e76989 button');\n",
              "      quickchartButtonEl.style.display =\n",
              "        google.colab.kernel.accessAllowed ? 'block' : 'none';\n",
              "    })();\n",
              "  </script>\n",
              "</div>\n",
              "\n",
              "    </div>\n",
              "  </div>\n"
            ],
            "application/vnd.google.colaboratory.intrinsic+json": {
              "type": "dataframe",
              "summary": "{\n  \"name\": \"df\",\n  \"rows\": 5,\n  \"fields\": [\n    {\n      \"column\": \"title\",\n      \"properties\": {\n        \"dtype\": \"string\",\n        \"num_unique_values\": 5,\n        \"samples\": [\n          \"2p \\ube14\\ub8e8\\ub77c\\uc774\\ud2b8 \\uc6d0\\uadfc \\uc591\\uc6a9 \\uc2a4\\ub9c8\\ud2b8 \\uc90c \\uc548\\ud2f0 \\ub3cb\\ubcf4\\uae30 \\uc548\\uacbd\",\n          \"\\ud734\\ub300\\uc6a9 \\ub3cb\\ubcf4\\uae30 \\uc548\\uacbd \\ub178\\uc548 \\ucd08\\uacbd\\ub7c9 \\ubaa9\\uac78\\uc774\\ud615 \\ud544\\ud1b5 \\ubbf8\\ub2c8 \\uace0\\ud654\\uc9c8 \\ube14\\ub8e8\\ub808\\uc774 \\ubc29\\uc9c0 \\uc811\\uc774\\uc2dd \\uac04\\ud3b8\",\n          \"\\ud734\\ub300\\uc6a9 \\ubaa9\\uac78\\uc774\\ud615 \\ud544\\ud1b5 \\ub3cb\\ubcf4\\uae30 \\uc548\\uacbd \\ubbf8\\ub2c8 \\uace0\\ud654\\uc9c8 \\uc5ec\\ud328\\uc158 \\ucd08\\uacbd\\ub7c9 \\ub0a8\\uc131 \\ub178\\uc778\\uc548\"\n        ],\n        \"semantic_type\": \"\",\n        \"description\": \"\"\n      }\n    },\n    {\n      \"column\": \"lprice\",\n      \"properties\": {\n        \"dtype\": \"string\",\n        \"num_unique_values\": 5,\n        \"samples\": [\n          \"3170\",\n          \"17410\",\n          \"12620\"\n        ],\n        \"semantic_type\": \"\",\n        \"description\": \"\"\n      }\n    },\n    {\n      \"column\": \"mall\",\n      \"properties\": {\n        \"dtype\": \"category\",\n        \"num_unique_values\": 2,\n        \"samples\": [\n          \"\\ub124\\uc774\\ubc84\",\n          \"11\\ubc88\\uac00\"\n        ],\n        \"semantic_type\": \"\",\n        \"description\": \"\"\n      }\n    },\n    {\n      \"column\": \"link\",\n      \"properties\": {\n        \"dtype\": \"string\",\n        \"num_unique_values\": 5,\n        \"samples\": [\n          \"https://search.shopping.naver.com/catalog/52614954428\",\n          \"https://search.shopping.naver.com/catalog/46302766820\"\n        ],\n        \"semantic_type\": \"\",\n        \"description\": \"\"\n      }\n    }\n  ]\n}"
            }
          },
          "metadata": {},
          "execution_count": 23
        }
      ],
      "source": [
        "url = gen_search_url('shop', '돋보기안경', 1, 100)\n",
        "json_result = get_result_onepage(url)\n",
        "df = get_df(json_result)\n",
        "df.tail()"
      ]
    },
    {
      "cell_type": "code",
      "execution_count": null,
      "metadata": {
        "id": "hgnE6o2SeHSN",
        "outputId": "fe167466-fdf5-4415-9224-abd23bcdf08f",
        "colab": {
          "base_uri": "https://localhost:8080/",
          "height": 35
        }
      },
      "outputs": [
        {
          "output_type": "execute_result",
          "data": {
            "text/plain": [
              "'https://search.shopping.naver.com/catalog/46302766820'"
            ],
            "application/vnd.google.colaboratory.intrinsic+json": {
              "type": "string"
            }
          },
          "metadata": {},
          "execution_count": 24
        }
      ],
      "source": [
        "df['link'][99]"
      ]
    },
    {
      "cell_type": "markdown",
      "metadata": {
        "id": "Zozs0d_2eHSN"
      },
      "source": [
        "## 3-4. 최댓값을 활용한 데이터 수집"
      ]
    },
    {
      "cell_type": "markdown",
      "source": [
        "- start=1이면, 결과 리스트의 첫 번째(1번) 결과부터 가져옵니다.\n",
        "- start=101이면, 결과 리스트의 101번째 결과부터 가져옵니다.\n",
        "- 페이지 1: start=1, display=100 → 1~100번째 결과\n",
        "- 페이지 2: start=101, display=100 → 101~200번째 결과"
      ],
      "metadata": {
        "id": "fSoHor8VhHPn"
      }
    },
    {
      "cell_type": "code",
      "source": [],
      "metadata": {
        "id": "lNAGO5fppFmc"
      },
      "execution_count": null,
      "outputs": []
    },
    {
      "cell_type": "code",
      "source": [
        "for n in range(1, 10, 2):\n",
        "    print(n)"
      ],
      "metadata": {
        "colab": {
          "base_uri": "https://localhost:8080/"
        },
        "id": "SeUGcVHwo56m",
        "outputId": "9b875d64-14bc-4102-bdc2-c9cc808997d0"
      },
      "execution_count": null,
      "outputs": [
        {
          "output_type": "stream",
          "name": "stdout",
          "text": [
            "1\n",
            "3\n",
            "5\n",
            "7\n",
            "9\n"
          ]
        }
      ]
    },
    {
      "cell_type": "code",
      "execution_count": null,
      "metadata": {
        "id": "06o7QrJDeHSN",
        "outputId": "61f2b3c0-51bf-43bb-df29-9fa526db4f60",
        "colab": {
          "base_uri": "https://localhost:8080/"
        }
      },
      "outputs": [
        {
          "output_type": "stream",
          "name": "stdout",
          "text": [
            "1\n",
            "101\n",
            "201\n",
            "301\n",
            "401\n",
            "501\n",
            "601\n",
            "701\n",
            "801\n",
            "901\n"
          ]
        }
      ],
      "source": [
        "for n in range(1, 1000, 100):\n",
        "    print(n)"
      ]
    },
    {
      "cell_type": "code",
      "execution_count": null,
      "metadata": {
        "id": "O0faODFheHSN",
        "outputId": "28442abb-9db1-4733-9dd5-459a63d82952",
        "colab": {
          "base_uri": "https://localhost:8080/"
        }
      },
      "outputs": [
        {
          "output_type": "stream",
          "name": "stdout",
          "text": [
            "2025-03-26 04:21:36.843933 정상적으로 처리 되었습니다.\n",
            "2025-03-26 04:21:37.819869 정상적으로 처리 되었습니다.\n",
            "2025-03-26 04:21:38.664920 정상적으로 처리 되었습니다.\n",
            "2025-03-26 04:21:39.583578 정상적으로 처리 되었습니다.\n",
            "2025-03-26 04:21:40.526134 정상적으로 처리 되었습니다.\n",
            "2025-03-26 04:21:41.451596 정상적으로 처리 되었습니다.\n",
            "2025-03-26 04:21:42.375752 정상적으로 처리 되었습니다.\n",
            "2025-03-26 04:21:43.321427 정상적으로 처리 되었습니다.\n",
            "2025-03-26 04:21:44.243241 정상적으로 처리 되었습니다.\n",
            "2025-03-26 04:21:45.178256 정상적으로 처리 되었습니다.\n",
            "2025-03-26 04:21:46.142951 정상적으로 처리 되었습니다.\n",
            "2025-03-26 04:21:47.123222 정상적으로 처리 되었습니다.\n",
            "2025-03-26 04:21:48.073877 정상적으로 처리 되었습니다.\n",
            "2025-03-26 04:21:49.045761 정상적으로 처리 되었습니다.\n",
            "2025-03-26 04:21:50.014442 정상적으로 처리 되었습니다.\n",
            "2025-03-26 04:21:50.958076 정상적으로 처리 되었습니다.\n",
            "2025-03-26 04:21:51.956439 정상적으로 처리 되었습니다.\n",
            "2025-03-26 04:21:52.902866 정상적으로 처리 되었습니다.\n",
            "2025-03-26 04:21:53.869397 정상적으로 처리 되었습니다.\n",
            "2025-03-26 04:21:54.809300 정상적으로 처리 되었습니다.\n"
          ]
        }
      ],
      "source": [
        "result_datas = []\n",
        "\n"
      ]
    },
    {
      "cell_type": "code",
      "execution_count": null,
      "metadata": {
        "id": "cK7HvFcCeHSN",
        "outputId": "88daf24c-0331-43ce-bb73-c097df6a8b27",
        "colab": {
          "base_uri": "https://localhost:8080/"
        }
      },
      "outputs": [
        {
          "output_type": "execute_result",
          "data": {
            "text/plain": [
              "20"
            ]
          },
          "metadata": {},
          "execution_count": 34
        }
      ],
      "source": [
        "len(result_datas)"
      ]
    },
    {
      "cell_type": "code",
      "execution_count": null,
      "metadata": {
        "id": "zRtNokVmeHSN",
        "outputId": "8c97b04a-6dcd-4a3f-8e82-b846b67f9a27",
        "colab": {
          "base_uri": "https://localhost:8080/",
          "height": 1000
        }
      },
      "outputs": [
        {
          "output_type": "execute_result",
          "data": {
            "text/plain": [
              "                                                title   lprice  \\\n",
              "0      Apple 아이패드 에어 11 6세대 M2 스페이스그레이, 128GB, WiFi전용  1020000   \n",
              "1               애플 아이패드 11세대 A16 와이파이 128GB 미국상품 관부포함   537900   \n",
              "2             애플 아이패드 11세대 A16 WIFI 128GB 2025출시 관부포함   526900   \n",
              "3               애플 아이패드 에어 6세대 2024년형 11인치 WiFi 128GB   765000   \n",
              "4          애플 아이패드 11세대 A16 WIFI 128GB 2025 신제품 미국 발송   503400   \n",
              "5         Apple 아이패드 에어 5세대 M1 스페이스 그레이, 64GB, WiFi전용   772300   \n",
              "6        Apple 아이패드 에어 11 6세대 M2 스타라이트, 128GB, WiFi전용   995000   \n",
              "7            애플정품 아이패드프로 아이패드 프로 2세대 10.5 (2017) 64GB   489000   \n",
              "8   Apple 아이패드 프로 13 7세대 M4 스탠다드 글래스 스페이스 블랙, 256G...  1868980   \n",
              "9      Apple 아이패드 에어 13 6세대 M2 스페이스그레이, 128GB, WiFi전용  1163020   \n",
              "10  Apple 아이패드 프로 11 5세대 M4 스탠다드 글래스 스페이스 블랙, 256G...  1426190   \n",
              "11           Apple 아이패드 에어 5세대 M1 스타라이트, 64GB, WiFi전용   777580   \n",
              "12               KT 아이패드 에어 11 M2칩 5G 셀룰러 통신사 분납 신규가입      960   \n",
              "13                   Apple 아이패드 10세대 실버, 64GB, WiFi전용   696000   \n",
              "14          Apple 아이패드 에어 11 6세대 M2 퍼플, 128GB, WiFi전용   990000   \n",
              "15          Apple 아이패드 에어 11 6세대 M2 블루, 128GB, WiFi전용  1069500   \n",
              "16                애플 아이패드 9세대 2021년형 10.2인치 WiFi 64GB   299000   \n",
              "17     애플 아이패드 9세대 2021년형 10.2인치 WiFi 64GB Space Gray   259000   \n",
              "18               [대여] 아이패드 대여 10세대 펜슬포함 렌탈 태블릿 코딩 드로잉     9000   \n",
              "19              Apple 아이패드 9세대 스페이스그레이, 256GB, WiFi전용   701990   \n",
              "20           Apple 아이패드 미니 7세대 스페이스그레이, 128GB, WiFi전용   711550   \n",
              "21   애플 아이패드 에어 7세대 11인치 M3 Chip 애플 인텔리전스 Wi-Fi 128GB   997030   \n",
              "22                   Apple 아이패드 9세대 실버, 256GB, WiFi전용   701990   \n",
              "23  Apple iPad mini 7 아이패드 미니 7세대 128GB WiFi 태블릿 카...   657700   \n",
              "24                Apple 아이패드 미니 7세대 퍼플, 128GB, WiFi전용   711550   \n",
              "25   [미국당일출고] 애플 아이패드 10세대 WIFI 64GB 애플정식판매처상품 관부가세포함   448900   \n",
              "26                        Apple 아이패드 에어 4세대 WIFI 256G  1055000   \n",
              "27             Apple 아이패드 미니 7세대 스타라이트, 256GB, WiFi전용   863040   \n",
              "28             [미국당일출고] 애플 아이패드 10세대 WIFI 64GB 미국애플정품   438900   \n",
              "29                    애플 Apple 아이패드 9세대 64GB 실버 Wi-Fi   391500   \n",
              "30            애플 아이패드 11세대 A16 와이파이 128GB 미국발송 관부가세포함   503900   \n",
              "31            애플 아이패드 에어 7세대 M3 11인치 WiFi 128GB 256GB   929900   \n",
              "32           APPLE 애플 아이패드 10세대 64GB WIFI 2022 관부가세포함   438900   \n",
              "33                  애플 아이패드 8세대 iPad 8 와이파이 WiFI 32GB   335760   \n",
              "34  Apple 아이패드 프로 11 5세대 M4 스탠다드 글래스 실버, 256GB, 5G...  1704000   \n",
              "35       Apple 아이패드 에어 13 6세대 M2 스타라이트, 256GB, WiFi전용  1398980   \n",
              "36              Apple 아이패드 미니 6세대 스타라이트, 64GB, WiFi전용   766000   \n",
              "37    Apple 아이패드 프로 11 4세대 M2 스페이스 그레이, 256GB, WiFi전용  1569000   \n",
              "38  Apple 아이패드 프로 13 7세대 M4 스탠다드 글래스 실버, 256GB, Wi...  1868880   \n",
              "39                Apple 아이패드 미니 7세대 블루, 128GB, WiFi전용   719040   \n",
              "40                   Apple 아이패드 10세대 블루, 64GB, WiFi전용   694000   \n",
              "41           Apple 아이패드 미니 6세대 스페이스 그레이, 64GB, WiFi전용   690000   \n",
              "42               미사용 애플 아이패드 미니 5세대 WIFI 64GB 스페이스그레이   418000   \n",
              "43                         애플 아이패드10세대 64GB WIFI 실버색상   379000   \n",
              "44            애플 아이패드 11세대 A16 WIFI 128GB 2025출시 관부포함   509900   \n",
              "45                        애플 아이패드 미니 6세대 WIFI 64GB 퍼플   589000   \n",
              "46            애플 iPad Air 아이패드 에어4  64GB WIFI 와이파이 정품   800000   \n",
              "47               [렌탈]아이패드 대여,렌탈 에어 5세대 256GB 스페이스 그레이     3990   \n",
              "48  애플 아이패드 에어 6세대 11인치 와이파이 128기가 블루 (국내 정식 발매 제품...  1045000   \n",
              "49                       Apple 아이패드 9세대 64GB 실버 Wi-Fi   388200   \n",
              "\n",
              "              mall                                               link  \n",
              "0              네이버  https://search.shopping.naver.com/catalog/5287...  \n",
              "1             모닝델라  https://smartstore.naver.com/main/products/115...  \n",
              "2           제니퍼스토리  https://smartstore.naver.com/main/products/115...  \n",
              "3            팔리조마켓  https://smartstore.naver.com/main/products/103...  \n",
              "4           뉴욕 스토리  https://smartstore.naver.com/main/products/115...  \n",
              "5              네이버  https://search.shopping.naver.com/catalog/5359...  \n",
              "6              네이버  https://search.shopping.naver.com/catalog/5287...  \n",
              "7           베스트 클릭  https://smartstore.naver.com/main/products/472...  \n",
              "8              네이버  https://search.shopping.naver.com/catalog/5349...  \n",
              "9              네이버  https://search.shopping.naver.com/catalog/5331...  \n",
              "10             네이버  https://search.shopping.naver.com/catalog/5339...  \n",
              "11             네이버  https://search.shopping.naver.com/catalog/5359...  \n",
              "12            11번가  https://www.11st.co.kr/connect/Gateway.tmall?m...  \n",
              "13             네이버  https://search.shopping.naver.com/catalog/5321...  \n",
              "14             네이버  https://search.shopping.naver.com/catalog/5287...  \n",
              "15             네이버  https://search.shopping.naver.com/catalog/5287...  \n",
              "16           팔리조마켓  https://smartstore.naver.com/main/products/587...  \n",
              "17           팔리조마켓  https://smartstore.naver.com/main/products/587...  \n",
              "18           플레이렌탈  https://smartstore.naver.com/main/products/832...  \n",
              "19             네이버  https://search.shopping.naver.com/catalog/5335...  \n",
              "20             네이버  https://search.shopping.naver.com/catalog/5335...  \n",
              "21            11번가  https://www.11st.co.kr/connect/Gateway.tmall?m...  \n",
              "22             네이버  https://search.shopping.naver.com/catalog/5335...  \n",
              "23             얼리텍  https://smartstore.naver.com/main/products/111...  \n",
              "24             네이버  https://search.shopping.naver.com/catalog/5335...  \n",
              "25          브루클린덤보  https://smartstore.naver.com/main/products/742...  \n",
              "26             네이버  https://search.shopping.naver.com/catalog/2439...  \n",
              "27             네이버  https://search.shopping.naver.com/catalog/5335...  \n",
              "28         파인 스트리트  https://smartstore.naver.com/main/products/114...  \n",
              "29             G마켓  https://link.gmarket.co.kr/gate/pcs?item-no=40...  \n",
              "30          브루클린덤보  https://smartstore.naver.com/main/products/115...  \n",
              "31  ANDREWCHOCOUSA  https://smartstore.naver.com/main/products/116...  \n",
              "32          제니퍼스토리  https://smartstore.naver.com/main/products/983...  \n",
              "33             G마켓  https://link.gmarket.co.kr/gate/pcs?item-no=37...  \n",
              "34             네이버  https://search.shopping.naver.com/catalog/5339...  \n",
              "35             네이버  https://search.shopping.naver.com/catalog/5331...  \n",
              "36             네이버  https://search.shopping.naver.com/catalog/5366...  \n",
              "37             네이버  https://search.shopping.naver.com/catalog/5364...  \n",
              "38             네이버  https://search.shopping.naver.com/catalog/5349...  \n",
              "39             네이버  https://search.shopping.naver.com/catalog/5335...  \n",
              "40             네이버  https://search.shopping.naver.com/catalog/5321...  \n",
              "41             네이버  https://search.shopping.naver.com/catalog/5366...  \n",
              "42             도란:  https://smartstore.naver.com/main/products/655...  \n",
              "43   메릴랜드MERRYLAND  https://smartstore.naver.com/main/products/110...  \n",
              "44         파인 스트리트  https://smartstore.naver.com/main/products/115...  \n",
              "45            플랜IT  https://smartstore.naver.com/main/products/108...  \n",
              "46             G마켓  https://link.gmarket.co.kr/gate/pcs?item-no=43...  \n",
              "47           쉐어라운지  https://smartstore.naver.com/main/products/845...  \n",
              "48     silver line  https://smartstore.naver.com/main/products/105...  \n",
              "49              옥션  https://link.auction.co.kr/gate/pcs?item-no=E5...  "
            ],
            "text/html": [
              "\n",
              "  <div id=\"df-abbf8c34-2ff7-4070-a6f6-281b4cf2cbe7\" class=\"colab-df-container\">\n",
              "    <div>\n",
              "<style scoped>\n",
              "    .dataframe tbody tr th:only-of-type {\n",
              "        vertical-align: middle;\n",
              "    }\n",
              "\n",
              "    .dataframe tbody tr th {\n",
              "        vertical-align: top;\n",
              "    }\n",
              "\n",
              "    .dataframe thead th {\n",
              "        text-align: right;\n",
              "    }\n",
              "</style>\n",
              "<table border=\"1\" class=\"dataframe\">\n",
              "  <thead>\n",
              "    <tr style=\"text-align: right;\">\n",
              "      <th></th>\n",
              "      <th>title</th>\n",
              "      <th>lprice</th>\n",
              "      <th>mall</th>\n",
              "      <th>link</th>\n",
              "    </tr>\n",
              "  </thead>\n",
              "  <tbody>\n",
              "    <tr>\n",
              "      <th>0</th>\n",
              "      <td>Apple 아이패드 에어 11 6세대 M2 스페이스그레이, 128GB, WiFi전용</td>\n",
              "      <td>1020000</td>\n",
              "      <td>네이버</td>\n",
              "      <td>https://search.shopping.naver.com/catalog/5287...</td>\n",
              "    </tr>\n",
              "    <tr>\n",
              "      <th>1</th>\n",
              "      <td>애플 아이패드 11세대 A16 와이파이 128GB 미국상품 관부포함</td>\n",
              "      <td>537900</td>\n",
              "      <td>모닝델라</td>\n",
              "      <td>https://smartstore.naver.com/main/products/115...</td>\n",
              "    </tr>\n",
              "    <tr>\n",
              "      <th>2</th>\n",
              "      <td>애플 아이패드 11세대 A16 WIFI 128GB 2025출시 관부포함</td>\n",
              "      <td>526900</td>\n",
              "      <td>제니퍼스토리</td>\n",
              "      <td>https://smartstore.naver.com/main/products/115...</td>\n",
              "    </tr>\n",
              "    <tr>\n",
              "      <th>3</th>\n",
              "      <td>애플 아이패드 에어 6세대 2024년형 11인치 WiFi 128GB</td>\n",
              "      <td>765000</td>\n",
              "      <td>팔리조마켓</td>\n",
              "      <td>https://smartstore.naver.com/main/products/103...</td>\n",
              "    </tr>\n",
              "    <tr>\n",
              "      <th>4</th>\n",
              "      <td>애플 아이패드 11세대 A16 WIFI 128GB 2025 신제품 미국 발송</td>\n",
              "      <td>503400</td>\n",
              "      <td>뉴욕 스토리</td>\n",
              "      <td>https://smartstore.naver.com/main/products/115...</td>\n",
              "    </tr>\n",
              "    <tr>\n",
              "      <th>5</th>\n",
              "      <td>Apple 아이패드 에어 5세대 M1 스페이스 그레이, 64GB, WiFi전용</td>\n",
              "      <td>772300</td>\n",
              "      <td>네이버</td>\n",
              "      <td>https://search.shopping.naver.com/catalog/5359...</td>\n",
              "    </tr>\n",
              "    <tr>\n",
              "      <th>6</th>\n",
              "      <td>Apple 아이패드 에어 11 6세대 M2 스타라이트, 128GB, WiFi전용</td>\n",
              "      <td>995000</td>\n",
              "      <td>네이버</td>\n",
              "      <td>https://search.shopping.naver.com/catalog/5287...</td>\n",
              "    </tr>\n",
              "    <tr>\n",
              "      <th>7</th>\n",
              "      <td>애플정품 아이패드프로 아이패드 프로 2세대 10.5 (2017) 64GB</td>\n",
              "      <td>489000</td>\n",
              "      <td>베스트 클릭</td>\n",
              "      <td>https://smartstore.naver.com/main/products/472...</td>\n",
              "    </tr>\n",
              "    <tr>\n",
              "      <th>8</th>\n",
              "      <td>Apple 아이패드 프로 13 7세대 M4 스탠다드 글래스 스페이스 블랙, 256G...</td>\n",
              "      <td>1868980</td>\n",
              "      <td>네이버</td>\n",
              "      <td>https://search.shopping.naver.com/catalog/5349...</td>\n",
              "    </tr>\n",
              "    <tr>\n",
              "      <th>9</th>\n",
              "      <td>Apple 아이패드 에어 13 6세대 M2 스페이스그레이, 128GB, WiFi전용</td>\n",
              "      <td>1163020</td>\n",
              "      <td>네이버</td>\n",
              "      <td>https://search.shopping.naver.com/catalog/5331...</td>\n",
              "    </tr>\n",
              "    <tr>\n",
              "      <th>10</th>\n",
              "      <td>Apple 아이패드 프로 11 5세대 M4 스탠다드 글래스 스페이스 블랙, 256G...</td>\n",
              "      <td>1426190</td>\n",
              "      <td>네이버</td>\n",
              "      <td>https://search.shopping.naver.com/catalog/5339...</td>\n",
              "    </tr>\n",
              "    <tr>\n",
              "      <th>11</th>\n",
              "      <td>Apple 아이패드 에어 5세대 M1 스타라이트, 64GB, WiFi전용</td>\n",
              "      <td>777580</td>\n",
              "      <td>네이버</td>\n",
              "      <td>https://search.shopping.naver.com/catalog/5359...</td>\n",
              "    </tr>\n",
              "    <tr>\n",
              "      <th>12</th>\n",
              "      <td>KT 아이패드 에어 11 M2칩 5G 셀룰러 통신사 분납 신규가입</td>\n",
              "      <td>960</td>\n",
              "      <td>11번가</td>\n",
              "      <td>https://www.11st.co.kr/connect/Gateway.tmall?m...</td>\n",
              "    </tr>\n",
              "    <tr>\n",
              "      <th>13</th>\n",
              "      <td>Apple 아이패드 10세대 실버, 64GB, WiFi전용</td>\n",
              "      <td>696000</td>\n",
              "      <td>네이버</td>\n",
              "      <td>https://search.shopping.naver.com/catalog/5321...</td>\n",
              "    </tr>\n",
              "    <tr>\n",
              "      <th>14</th>\n",
              "      <td>Apple 아이패드 에어 11 6세대 M2 퍼플, 128GB, WiFi전용</td>\n",
              "      <td>990000</td>\n",
              "      <td>네이버</td>\n",
              "      <td>https://search.shopping.naver.com/catalog/5287...</td>\n",
              "    </tr>\n",
              "    <tr>\n",
              "      <th>15</th>\n",
              "      <td>Apple 아이패드 에어 11 6세대 M2 블루, 128GB, WiFi전용</td>\n",
              "      <td>1069500</td>\n",
              "      <td>네이버</td>\n",
              "      <td>https://search.shopping.naver.com/catalog/5287...</td>\n",
              "    </tr>\n",
              "    <tr>\n",
              "      <th>16</th>\n",
              "      <td>애플 아이패드 9세대 2021년형 10.2인치 WiFi 64GB</td>\n",
              "      <td>299000</td>\n",
              "      <td>팔리조마켓</td>\n",
              "      <td>https://smartstore.naver.com/main/products/587...</td>\n",
              "    </tr>\n",
              "    <tr>\n",
              "      <th>17</th>\n",
              "      <td>애플 아이패드 9세대 2021년형 10.2인치 WiFi 64GB Space Gray</td>\n",
              "      <td>259000</td>\n",
              "      <td>팔리조마켓</td>\n",
              "      <td>https://smartstore.naver.com/main/products/587...</td>\n",
              "    </tr>\n",
              "    <tr>\n",
              "      <th>18</th>\n",
              "      <td>[대여] 아이패드 대여 10세대 펜슬포함 렌탈 태블릿 코딩 드로잉</td>\n",
              "      <td>9000</td>\n",
              "      <td>플레이렌탈</td>\n",
              "      <td>https://smartstore.naver.com/main/products/832...</td>\n",
              "    </tr>\n",
              "    <tr>\n",
              "      <th>19</th>\n",
              "      <td>Apple 아이패드 9세대 스페이스그레이, 256GB, WiFi전용</td>\n",
              "      <td>701990</td>\n",
              "      <td>네이버</td>\n",
              "      <td>https://search.shopping.naver.com/catalog/5335...</td>\n",
              "    </tr>\n",
              "    <tr>\n",
              "      <th>20</th>\n",
              "      <td>Apple 아이패드 미니 7세대 스페이스그레이, 128GB, WiFi전용</td>\n",
              "      <td>711550</td>\n",
              "      <td>네이버</td>\n",
              "      <td>https://search.shopping.naver.com/catalog/5335...</td>\n",
              "    </tr>\n",
              "    <tr>\n",
              "      <th>21</th>\n",
              "      <td>애플 아이패드 에어 7세대 11인치 M3 Chip 애플 인텔리전스 Wi-Fi 128GB</td>\n",
              "      <td>997030</td>\n",
              "      <td>11번가</td>\n",
              "      <td>https://www.11st.co.kr/connect/Gateway.tmall?m...</td>\n",
              "    </tr>\n",
              "    <tr>\n",
              "      <th>22</th>\n",
              "      <td>Apple 아이패드 9세대 실버, 256GB, WiFi전용</td>\n",
              "      <td>701990</td>\n",
              "      <td>네이버</td>\n",
              "      <td>https://search.shopping.naver.com/catalog/5335...</td>\n",
              "    </tr>\n",
              "    <tr>\n",
              "      <th>23</th>\n",
              "      <td>Apple iPad mini 7 아이패드 미니 7세대 128GB WiFi 태블릿 카...</td>\n",
              "      <td>657700</td>\n",
              "      <td>얼리텍</td>\n",
              "      <td>https://smartstore.naver.com/main/products/111...</td>\n",
              "    </tr>\n",
              "    <tr>\n",
              "      <th>24</th>\n",
              "      <td>Apple 아이패드 미니 7세대 퍼플, 128GB, WiFi전용</td>\n",
              "      <td>711550</td>\n",
              "      <td>네이버</td>\n",
              "      <td>https://search.shopping.naver.com/catalog/5335...</td>\n",
              "    </tr>\n",
              "    <tr>\n",
              "      <th>25</th>\n",
              "      <td>[미국당일출고] 애플 아이패드 10세대 WIFI 64GB 애플정식판매처상품 관부가세포함</td>\n",
              "      <td>448900</td>\n",
              "      <td>브루클린덤보</td>\n",
              "      <td>https://smartstore.naver.com/main/products/742...</td>\n",
              "    </tr>\n",
              "    <tr>\n",
              "      <th>26</th>\n",
              "      <td>Apple 아이패드 에어 4세대 WIFI 256G</td>\n",
              "      <td>1055000</td>\n",
              "      <td>네이버</td>\n",
              "      <td>https://search.shopping.naver.com/catalog/2439...</td>\n",
              "    </tr>\n",
              "    <tr>\n",
              "      <th>27</th>\n",
              "      <td>Apple 아이패드 미니 7세대 스타라이트, 256GB, WiFi전용</td>\n",
              "      <td>863040</td>\n",
              "      <td>네이버</td>\n",
              "      <td>https://search.shopping.naver.com/catalog/5335...</td>\n",
              "    </tr>\n",
              "    <tr>\n",
              "      <th>28</th>\n",
              "      <td>[미국당일출고] 애플 아이패드 10세대 WIFI 64GB 미국애플정품</td>\n",
              "      <td>438900</td>\n",
              "      <td>파인 스트리트</td>\n",
              "      <td>https://smartstore.naver.com/main/products/114...</td>\n",
              "    </tr>\n",
              "    <tr>\n",
              "      <th>29</th>\n",
              "      <td>애플 Apple 아이패드 9세대 64GB 실버 Wi-Fi</td>\n",
              "      <td>391500</td>\n",
              "      <td>G마켓</td>\n",
              "      <td>https://link.gmarket.co.kr/gate/pcs?item-no=40...</td>\n",
              "    </tr>\n",
              "    <tr>\n",
              "      <th>30</th>\n",
              "      <td>애플 아이패드 11세대 A16 와이파이 128GB 미국발송 관부가세포함</td>\n",
              "      <td>503900</td>\n",
              "      <td>브루클린덤보</td>\n",
              "      <td>https://smartstore.naver.com/main/products/115...</td>\n",
              "    </tr>\n",
              "    <tr>\n",
              "      <th>31</th>\n",
              "      <td>애플 아이패드 에어 7세대 M3 11인치 WiFi 128GB 256GB</td>\n",
              "      <td>929900</td>\n",
              "      <td>ANDREWCHOCOUSA</td>\n",
              "      <td>https://smartstore.naver.com/main/products/116...</td>\n",
              "    </tr>\n",
              "    <tr>\n",
              "      <th>32</th>\n",
              "      <td>APPLE 애플 아이패드 10세대 64GB WIFI 2022 관부가세포함</td>\n",
              "      <td>438900</td>\n",
              "      <td>제니퍼스토리</td>\n",
              "      <td>https://smartstore.naver.com/main/products/983...</td>\n",
              "    </tr>\n",
              "    <tr>\n",
              "      <th>33</th>\n",
              "      <td>애플 아이패드 8세대 iPad 8 와이파이 WiFI 32GB</td>\n",
              "      <td>335760</td>\n",
              "      <td>G마켓</td>\n",
              "      <td>https://link.gmarket.co.kr/gate/pcs?item-no=37...</td>\n",
              "    </tr>\n",
              "    <tr>\n",
              "      <th>34</th>\n",
              "      <td>Apple 아이패드 프로 11 5세대 M4 스탠다드 글래스 실버, 256GB, 5G...</td>\n",
              "      <td>1704000</td>\n",
              "      <td>네이버</td>\n",
              "      <td>https://search.shopping.naver.com/catalog/5339...</td>\n",
              "    </tr>\n",
              "    <tr>\n",
              "      <th>35</th>\n",
              "      <td>Apple 아이패드 에어 13 6세대 M2 스타라이트, 256GB, WiFi전용</td>\n",
              "      <td>1398980</td>\n",
              "      <td>네이버</td>\n",
              "      <td>https://search.shopping.naver.com/catalog/5331...</td>\n",
              "    </tr>\n",
              "    <tr>\n",
              "      <th>36</th>\n",
              "      <td>Apple 아이패드 미니 6세대 스타라이트, 64GB, WiFi전용</td>\n",
              "      <td>766000</td>\n",
              "      <td>네이버</td>\n",
              "      <td>https://search.shopping.naver.com/catalog/5366...</td>\n",
              "    </tr>\n",
              "    <tr>\n",
              "      <th>37</th>\n",
              "      <td>Apple 아이패드 프로 11 4세대 M2 스페이스 그레이, 256GB, WiFi전용</td>\n",
              "      <td>1569000</td>\n",
              "      <td>네이버</td>\n",
              "      <td>https://search.shopping.naver.com/catalog/5364...</td>\n",
              "    </tr>\n",
              "    <tr>\n",
              "      <th>38</th>\n",
              "      <td>Apple 아이패드 프로 13 7세대 M4 스탠다드 글래스 실버, 256GB, Wi...</td>\n",
              "      <td>1868880</td>\n",
              "      <td>네이버</td>\n",
              "      <td>https://search.shopping.naver.com/catalog/5349...</td>\n",
              "    </tr>\n",
              "    <tr>\n",
              "      <th>39</th>\n",
              "      <td>Apple 아이패드 미니 7세대 블루, 128GB, WiFi전용</td>\n",
              "      <td>719040</td>\n",
              "      <td>네이버</td>\n",
              "      <td>https://search.shopping.naver.com/catalog/5335...</td>\n",
              "    </tr>\n",
              "    <tr>\n",
              "      <th>40</th>\n",
              "      <td>Apple 아이패드 10세대 블루, 64GB, WiFi전용</td>\n",
              "      <td>694000</td>\n",
              "      <td>네이버</td>\n",
              "      <td>https://search.shopping.naver.com/catalog/5321...</td>\n",
              "    </tr>\n",
              "    <tr>\n",
              "      <th>41</th>\n",
              "      <td>Apple 아이패드 미니 6세대 스페이스 그레이, 64GB, WiFi전용</td>\n",
              "      <td>690000</td>\n",
              "      <td>네이버</td>\n",
              "      <td>https://search.shopping.naver.com/catalog/5366...</td>\n",
              "    </tr>\n",
              "    <tr>\n",
              "      <th>42</th>\n",
              "      <td>미사용 애플 아이패드 미니 5세대 WIFI 64GB 스페이스그레이</td>\n",
              "      <td>418000</td>\n",
              "      <td>도란:</td>\n",
              "      <td>https://smartstore.naver.com/main/products/655...</td>\n",
              "    </tr>\n",
              "    <tr>\n",
              "      <th>43</th>\n",
              "      <td>애플 아이패드10세대 64GB WIFI 실버색상</td>\n",
              "      <td>379000</td>\n",
              "      <td>메릴랜드MERRYLAND</td>\n",
              "      <td>https://smartstore.naver.com/main/products/110...</td>\n",
              "    </tr>\n",
              "    <tr>\n",
              "      <th>44</th>\n",
              "      <td>애플 아이패드 11세대 A16 WIFI 128GB 2025출시 관부포함</td>\n",
              "      <td>509900</td>\n",
              "      <td>파인 스트리트</td>\n",
              "      <td>https://smartstore.naver.com/main/products/115...</td>\n",
              "    </tr>\n",
              "    <tr>\n",
              "      <th>45</th>\n",
              "      <td>애플 아이패드 미니 6세대 WIFI 64GB 퍼플</td>\n",
              "      <td>589000</td>\n",
              "      <td>플랜IT</td>\n",
              "      <td>https://smartstore.naver.com/main/products/108...</td>\n",
              "    </tr>\n",
              "    <tr>\n",
              "      <th>46</th>\n",
              "      <td>애플 iPad Air 아이패드 에어4  64GB WIFI 와이파이 정품</td>\n",
              "      <td>800000</td>\n",
              "      <td>G마켓</td>\n",
              "      <td>https://link.gmarket.co.kr/gate/pcs?item-no=43...</td>\n",
              "    </tr>\n",
              "    <tr>\n",
              "      <th>47</th>\n",
              "      <td>[렌탈]아이패드 대여,렌탈 에어 5세대 256GB 스페이스 그레이</td>\n",
              "      <td>3990</td>\n",
              "      <td>쉐어라운지</td>\n",
              "      <td>https://smartstore.naver.com/main/products/845...</td>\n",
              "    </tr>\n",
              "    <tr>\n",
              "      <th>48</th>\n",
              "      <td>애플 아이패드 에어 6세대 11인치 와이파이 128기가 블루 (국내 정식 발매 제품...</td>\n",
              "      <td>1045000</td>\n",
              "      <td>silver line</td>\n",
              "      <td>https://smartstore.naver.com/main/products/105...</td>\n",
              "    </tr>\n",
              "    <tr>\n",
              "      <th>49</th>\n",
              "      <td>Apple 아이패드 9세대 64GB 실버 Wi-Fi</td>\n",
              "      <td>388200</td>\n",
              "      <td>옥션</td>\n",
              "      <td>https://link.auction.co.kr/gate/pcs?item-no=E5...</td>\n",
              "    </tr>\n",
              "  </tbody>\n",
              "</table>\n",
              "</div>\n",
              "    <div class=\"colab-df-buttons\">\n",
              "\n",
              "  <div class=\"colab-df-container\">\n",
              "    <button class=\"colab-df-convert\" onclick=\"convertToInteractive('df-abbf8c34-2ff7-4070-a6f6-281b4cf2cbe7')\"\n",
              "            title=\"Convert this dataframe to an interactive table.\"\n",
              "            style=\"display:none;\">\n",
              "\n",
              "  <svg xmlns=\"http://www.w3.org/2000/svg\" height=\"24px\" viewBox=\"0 -960 960 960\">\n",
              "    <path d=\"M120-120v-720h720v720H120Zm60-500h600v-160H180v160Zm220 220h160v-160H400v160Zm0 220h160v-160H400v160ZM180-400h160v-160H180v160Zm440 0h160v-160H620v160ZM180-180h160v-160H180v160Zm440 0h160v-160H620v160Z\"/>\n",
              "  </svg>\n",
              "    </button>\n",
              "\n",
              "  <style>\n",
              "    .colab-df-container {\n",
              "      display:flex;\n",
              "      gap: 12px;\n",
              "    }\n",
              "\n",
              "    .colab-df-convert {\n",
              "      background-color: #E8F0FE;\n",
              "      border: none;\n",
              "      border-radius: 50%;\n",
              "      cursor: pointer;\n",
              "      display: none;\n",
              "      fill: #1967D2;\n",
              "      height: 32px;\n",
              "      padding: 0 0 0 0;\n",
              "      width: 32px;\n",
              "    }\n",
              "\n",
              "    .colab-df-convert:hover {\n",
              "      background-color: #E2EBFA;\n",
              "      box-shadow: 0px 1px 2px rgba(60, 64, 67, 0.3), 0px 1px 3px 1px rgba(60, 64, 67, 0.15);\n",
              "      fill: #174EA6;\n",
              "    }\n",
              "\n",
              "    .colab-df-buttons div {\n",
              "      margin-bottom: 4px;\n",
              "    }\n",
              "\n",
              "    [theme=dark] .colab-df-convert {\n",
              "      background-color: #3B4455;\n",
              "      fill: #D2E3FC;\n",
              "    }\n",
              "\n",
              "    [theme=dark] .colab-df-convert:hover {\n",
              "      background-color: #434B5C;\n",
              "      box-shadow: 0px 1px 3px 1px rgba(0, 0, 0, 0.15);\n",
              "      filter: drop-shadow(0px 1px 2px rgba(0, 0, 0, 0.3));\n",
              "      fill: #FFFFFF;\n",
              "    }\n",
              "  </style>\n",
              "\n",
              "    <script>\n",
              "      const buttonEl =\n",
              "        document.querySelector('#df-abbf8c34-2ff7-4070-a6f6-281b4cf2cbe7 button.colab-df-convert');\n",
              "      buttonEl.style.display =\n",
              "        google.colab.kernel.accessAllowed ? 'block' : 'none';\n",
              "\n",
              "      async function convertToInteractive(key) {\n",
              "        const element = document.querySelector('#df-abbf8c34-2ff7-4070-a6f6-281b4cf2cbe7');\n",
              "        const dataTable =\n",
              "          await google.colab.kernel.invokeFunction('convertToInteractive',\n",
              "                                                    [key], {});\n",
              "        if (!dataTable) return;\n",
              "\n",
              "        const docLinkHtml = 'Like what you see? Visit the ' +\n",
              "          '<a target=\"_blank\" href=https://colab.research.google.com/notebooks/data_table.ipynb>data table notebook</a>'\n",
              "          + ' to learn more about interactive tables.';\n",
              "        element.innerHTML = '';\n",
              "        dataTable['output_type'] = 'display_data';\n",
              "        await google.colab.output.renderOutput(dataTable, element);\n",
              "        const docLink = document.createElement('div');\n",
              "        docLink.innerHTML = docLinkHtml;\n",
              "        element.appendChild(docLink);\n",
              "      }\n",
              "    </script>\n",
              "  </div>\n",
              "\n",
              "\n",
              "<div id=\"df-fafc7b8d-450c-42b4-be29-fcdf45c3f28c\">\n",
              "  <button class=\"colab-df-quickchart\" onclick=\"quickchart('df-fafc7b8d-450c-42b4-be29-fcdf45c3f28c')\"\n",
              "            title=\"Suggest charts\"\n",
              "            style=\"display:none;\">\n",
              "\n",
              "<svg xmlns=\"http://www.w3.org/2000/svg\" height=\"24px\"viewBox=\"0 0 24 24\"\n",
              "     width=\"24px\">\n",
              "    <g>\n",
              "        <path d=\"M19 3H5c-1.1 0-2 .9-2 2v14c0 1.1.9 2 2 2h14c1.1 0 2-.9 2-2V5c0-1.1-.9-2-2-2zM9 17H7v-7h2v7zm4 0h-2V7h2v10zm4 0h-2v-4h2v4z\"/>\n",
              "    </g>\n",
              "</svg>\n",
              "  </button>\n",
              "\n",
              "<style>\n",
              "  .colab-df-quickchart {\n",
              "      --bg-color: #E8F0FE;\n",
              "      --fill-color: #1967D2;\n",
              "      --hover-bg-color: #E2EBFA;\n",
              "      --hover-fill-color: #174EA6;\n",
              "      --disabled-fill-color: #AAA;\n",
              "      --disabled-bg-color: #DDD;\n",
              "  }\n",
              "\n",
              "  [theme=dark] .colab-df-quickchart {\n",
              "      --bg-color: #3B4455;\n",
              "      --fill-color: #D2E3FC;\n",
              "      --hover-bg-color: #434B5C;\n",
              "      --hover-fill-color: #FFFFFF;\n",
              "      --disabled-bg-color: #3B4455;\n",
              "      --disabled-fill-color: #666;\n",
              "  }\n",
              "\n",
              "  .colab-df-quickchart {\n",
              "    background-color: var(--bg-color);\n",
              "    border: none;\n",
              "    border-radius: 50%;\n",
              "    cursor: pointer;\n",
              "    display: none;\n",
              "    fill: var(--fill-color);\n",
              "    height: 32px;\n",
              "    padding: 0;\n",
              "    width: 32px;\n",
              "  }\n",
              "\n",
              "  .colab-df-quickchart:hover {\n",
              "    background-color: var(--hover-bg-color);\n",
              "    box-shadow: 0 1px 2px rgba(60, 64, 67, 0.3), 0 1px 3px 1px rgba(60, 64, 67, 0.15);\n",
              "    fill: var(--button-hover-fill-color);\n",
              "  }\n",
              "\n",
              "  .colab-df-quickchart-complete:disabled,\n",
              "  .colab-df-quickchart-complete:disabled:hover {\n",
              "    background-color: var(--disabled-bg-color);\n",
              "    fill: var(--disabled-fill-color);\n",
              "    box-shadow: none;\n",
              "  }\n",
              "\n",
              "  .colab-df-spinner {\n",
              "    border: 2px solid var(--fill-color);\n",
              "    border-color: transparent;\n",
              "    border-bottom-color: var(--fill-color);\n",
              "    animation:\n",
              "      spin 1s steps(1) infinite;\n",
              "  }\n",
              "\n",
              "  @keyframes spin {\n",
              "    0% {\n",
              "      border-color: transparent;\n",
              "      border-bottom-color: var(--fill-color);\n",
              "      border-left-color: var(--fill-color);\n",
              "    }\n",
              "    20% {\n",
              "      border-color: transparent;\n",
              "      border-left-color: var(--fill-color);\n",
              "      border-top-color: var(--fill-color);\n",
              "    }\n",
              "    30% {\n",
              "      border-color: transparent;\n",
              "      border-left-color: var(--fill-color);\n",
              "      border-top-color: var(--fill-color);\n",
              "      border-right-color: var(--fill-color);\n",
              "    }\n",
              "    40% {\n",
              "      border-color: transparent;\n",
              "      border-right-color: var(--fill-color);\n",
              "      border-top-color: var(--fill-color);\n",
              "    }\n",
              "    60% {\n",
              "      border-color: transparent;\n",
              "      border-right-color: var(--fill-color);\n",
              "    }\n",
              "    80% {\n",
              "      border-color: transparent;\n",
              "      border-right-color: var(--fill-color);\n",
              "      border-bottom-color: var(--fill-color);\n",
              "    }\n",
              "    90% {\n",
              "      border-color: transparent;\n",
              "      border-bottom-color: var(--fill-color);\n",
              "    }\n",
              "  }\n",
              "</style>\n",
              "\n",
              "  <script>\n",
              "    async function quickchart(key) {\n",
              "      const quickchartButtonEl =\n",
              "        document.querySelector('#' + key + ' button');\n",
              "      quickchartButtonEl.disabled = true;  // To prevent multiple clicks.\n",
              "      quickchartButtonEl.classList.add('colab-df-spinner');\n",
              "      try {\n",
              "        const charts = await google.colab.kernel.invokeFunction(\n",
              "            'suggestCharts', [key], {});\n",
              "      } catch (error) {\n",
              "        console.error('Error during call to suggestCharts:', error);\n",
              "      }\n",
              "      quickchartButtonEl.classList.remove('colab-df-spinner');\n",
              "      quickchartButtonEl.classList.add('colab-df-quickchart-complete');\n",
              "    }\n",
              "    (() => {\n",
              "      let quickchartButtonEl =\n",
              "        document.querySelector('#df-fafc7b8d-450c-42b4-be29-fcdf45c3f28c button');\n",
              "      quickchartButtonEl.style.display =\n",
              "        google.colab.kernel.accessAllowed ? 'block' : 'none';\n",
              "    })();\n",
              "  </script>\n",
              "</div>\n",
              "\n",
              "    </div>\n",
              "  </div>\n"
            ],
            "application/vnd.google.colaboratory.intrinsic+json": {
              "type": "dataframe",
              "summary": "{\n  \"name\": \"result_datas[0]\",\n  \"rows\": 50,\n  \"fields\": [\n    {\n      \"column\": \"title\",\n      \"properties\": {\n        \"dtype\": \"string\",\n        \"num_unique_values\": 49,\n        \"samples\": [\n          \"Apple \\uc544\\uc774\\ud328\\ub4dc 10\\uc138\\ub300 \\uc2e4\\ubc84, 64GB, WiFi\\uc804\\uc6a9\",\n          \"\\uc560\\ud50c iPad Air \\uc544\\uc774\\ud328\\ub4dc \\uc5d0\\uc5b44  64GB WIFI \\uc640\\uc774\\ud30c\\uc774 \\uc815\\ud488\",\n          \"\\uc560\\ud50c \\uc544\\uc774\\ud328\\ub4dc \\uc5d0\\uc5b4 6\\uc138\\ub300 11\\uc778\\uce58 \\uc640\\uc774\\ud30c\\uc774 128\\uae30\\uac00 \\ube14\\ub8e8 (\\uad6d\\ub0b4 \\uc815\\uc2dd \\ubc1c\\ub9e4 \\uc81c\\ud488) MUWD3KH/A\"\n        ],\n        \"semantic_type\": \"\",\n        \"description\": \"\"\n      }\n    },\n    {\n      \"column\": \"lprice\",\n      \"properties\": {\n        \"dtype\": \"string\",\n        \"num_unique_values\": 47,\n        \"samples\": [\n          \"391500\",\n          \"418000\",\n          \"438900\"\n        ],\n        \"semantic_type\": \"\",\n        \"description\": \"\"\n      }\n    },\n    {\n      \"column\": \"mall\",\n      \"properties\": {\n        \"dtype\": \"category\",\n        \"num_unique_values\": 19,\n        \"samples\": [\n          \"\\ub124\\uc774\\ubc84\",\n          \"\\ubca0\\uc2a4\\ud2b8 \\ud074\\ub9ad\",\n          \"G\\ub9c8\\ucf13\"\n        ],\n        \"semantic_type\": \"\",\n        \"description\": \"\"\n      }\n    },\n    {\n      \"column\": \"link\",\n      \"properties\": {\n        \"dtype\": \"string\",\n        \"num_unique_values\": 50,\n        \"samples\": [\n          \"https://search.shopping.naver.com/catalog/53212173186\",\n          \"https://search.shopping.naver.com/catalog/53352051102\",\n          \"https://smartstore.naver.com/main/products/11559187477\"\n        ],\n        \"semantic_type\": \"\",\n        \"description\": \"\"\n      }\n    }\n  ]\n}"
            }
          },
          "metadata": {},
          "execution_count": 35
        }
      ],
      "source": [
        "result_datas[0]"
      ]
    },
    {
      "cell_type": "markdown",
      "metadata": {
        "id": "smzS31-XeHSN"
      },
      "source": [
        "## 4. 데이터 프레임 다듬기"
      ]
    },
    {
      "cell_type": "code",
      "execution_count": null,
      "metadata": {
        "id": "oaVRzia6eHSQ",
        "outputId": "671ed289-0673-46eb-fa90-1058469da2a9",
        "colab": {
          "base_uri": "https://localhost:8080/"
        }
      },
      "outputs": [
        {
          "output_type": "stream",
          "name": "stdout",
          "text": [
            "<class 'pandas.core.frame.DataFrame'>\n",
            "Index: 1000 entries, 0 to 49\n",
            "Data columns (total 4 columns):\n",
            " #   Column  Non-Null Count  Dtype \n",
            "---  ------  --------------  ----- \n",
            " 0   title   1000 non-null   object\n",
            " 1   lprice  1000 non-null   object\n",
            " 2   mall    1000 non-null   object\n",
            " 3   link    1000 non-null   object\n",
            "dtypes: object(4)\n",
            "memory usage: 39.1+ KB\n"
          ]
        }
      ],
      "source": [
        "result_df = pd.concat(result_datas)\n",
        "result_df.info()"
      ]
    },
    {
      "cell_type": "code",
      "execution_count": null,
      "metadata": {
        "id": "aKQn9Wz_eHSQ"
      },
      "outputs": [],
      "source": [
        "result_df.reset_index(drop=True, inplace=True)"
      ]
    },
    {
      "cell_type": "code",
      "execution_count": null,
      "metadata": {
        "id": "aq-h_oHqeHSQ",
        "outputId": "dee5401e-f7a0-4fe8-d73d-64ce2431d533",
        "colab": {
          "base_uri": "https://localhost:8080/"
        }
      },
      "outputs": [
        {
          "output_type": "stream",
          "name": "stdout",
          "text": [
            "<class 'pandas.core.frame.DataFrame'>\n",
            "RangeIndex: 1000 entries, 0 to 999\n",
            "Data columns (total 4 columns):\n",
            " #   Column  Non-Null Count  Dtype \n",
            "---  ------  --------------  ----- \n",
            " 0   title   1000 non-null   object\n",
            " 1   lprice  1000 non-null   object\n",
            " 2   mall    1000 non-null   object\n",
            " 3   link    1000 non-null   object\n",
            "dtypes: object(4)\n",
            "memory usage: 31.4+ KB\n"
          ]
        }
      ],
      "source": [
        "result_df.info()"
      ]
    },
    {
      "cell_type": "code",
      "execution_count": null,
      "metadata": {
        "id": "9YixYAG0eHSR",
        "outputId": "5136d8a1-b339-44f4-d652-bff5c7d263ad"
      },
      "outputs": [
        {
          "name": "stdout",
          "output_type": "stream",
          "text": [
            "<class 'pandas.core.frame.DataFrame'>\n",
            "RangeIndex: 1000 entries, 0 to 999\n",
            "Data columns (total 4 columns):\n",
            " #   Column  Non-Null Count  Dtype  \n",
            "---  ------  --------------  -----  \n",
            " 0   title   1000 non-null   object \n",
            " 1   lprice  1000 non-null   float64\n",
            " 2   mall    1000 non-null   object \n",
            " 3   link    1000 non-null   object \n",
            "dtypes: float64(1), object(3)\n",
            "memory usage: 31.4+ KB\n"
          ]
        }
      ],
      "source": [
        "result_df['lprice'] = result_df['lprice'].astype('float')\n",
        "result_df.info()"
      ]
    },
    {
      "cell_type": "code",
      "execution_count": null,
      "metadata": {
        "id": "TSlYak-NeHSR"
      },
      "outputs": [],
      "source": []
    }
  ],
  "metadata": {
    "kernelspec": {
      "display_name": "codeit_env",
      "language": "python",
      "name": "python3"
    },
    "language_info": {
      "codemirror_mode": {
        "name": "ipython",
        "version": 3
      },
      "file_extension": ".py",
      "mimetype": "text/x-python",
      "name": "python",
      "nbconvert_exporter": "python",
      "pygments_lexer": "ipython3",
      "version": "3.12.5"
    },
    "colab": {
      "provenance": [],
      "include_colab_link": true
    }
  },
  "nbformat": 4,
  "nbformat_minor": 0
}